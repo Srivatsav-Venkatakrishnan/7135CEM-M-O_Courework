{
  "cells": [
    {
      "cell_type": "markdown",
      "id": "2b995c96",
      "metadata": {
        "papermill": {
          "duration": 0.020387,
          "end_time": "2023-02-12T12:02:35.333805",
          "exception": false,
          "start_time": "2023-02-12T12:02:35.313418",
          "status": "completed"
        },
        "tags": [],
        "id": "2b995c96"
      },
      "source": [
        "# **CROP PREDICTION USING GRADIENT BOOST CLASSIFIER**\n",
        "\n",
        "### Srivatsav Venkatakrishnan\n",
        "### Faculty of Engineering, Environment and Computing\n",
        "### MSc. Data Science and Computational Intelligence"
      ]
    },
    {
      "cell_type": "markdown",
      "id": "f5267a4e",
      "metadata": {
        "papermill": {
          "duration": 0.017814,
          "end_time": "2023-02-12T12:02:35.480381",
          "exception": false,
          "start_time": "2023-02-12T12:02:35.462567",
          "status": "completed"
        },
        "tags": [],
        "id": "f5267a4e"
      },
      "source": [
        "# **IMPORTING LIBRARIES**"
      ]
    },
    {
      "cell_type": "code",
      "execution_count": null,
      "id": "b7696ac6",
      "metadata": {
        "execution": {
          "iopub.execute_input": "2023-02-12T12:02:35.519825Z",
          "iopub.status.busy": "2023-02-12T12:02:35.518738Z",
          "iopub.status.idle": "2023-02-12T12:02:36.495116Z",
          "shell.execute_reply": "2023-02-12T12:02:36.493795Z"
        },
        "id": "b7696ac6",
        "papermill": {
          "duration": 0.999686,
          "end_time": "2023-02-12T12:02:36.498344",
          "exception": false,
          "start_time": "2023-02-12T12:02:35.498658",
          "status": "completed"
        },
        "tags": []
      },
      "outputs": [],
      "source": [
        "import numpy as np\n",
        "import pandas as pd\n",
        "import matplotlib.pyplot as plt\n",
        "import seaborn as sns"
      ]
    },
    {
      "cell_type": "markdown",
      "id": "36d6080b",
      "metadata": {
        "papermill": {
          "duration": 0.017575,
          "end_time": "2023-02-12T12:02:36.533957",
          "exception": false,
          "start_time": "2023-02-12T12:02:36.516382",
          "status": "completed"
        },
        "tags": [],
        "id": "36d6080b"
      },
      "source": [
        "# **READING DATA FILE**"
      ]
    },
    {
      "cell_type": "markdown",
      "id": "a520ec92",
      "metadata": {
        "papermill": {
          "duration": 0.017545,
          "end_time": "2023-02-12T12:02:36.569458",
          "exception": false,
          "start_time": "2023-02-12T12:02:36.551913",
          "status": "completed"
        },
        "tags": [],
        "id": "a520ec92"
      },
      "source": []
    },
    {
      "cell_type": "code",
      "source": [
        "from google.colab import drive\n",
        "drive.mount('/content/drive')"
      ],
      "metadata": {
        "colab": {
          "base_uri": "https://localhost:8080/"
        },
        "id": "Sw82Ym07V55h",
        "outputId": "d74f661a-2007-49ce-acd4-fcfa024ea4e9"
      },
      "id": "Sw82Ym07V55h",
      "execution_count": null,
      "outputs": [
        {
          "output_type": "stream",
          "name": "stdout",
          "text": [
            "Mounted at /content/drive\n"
          ]
        }
      ]
    },
    {
      "cell_type": "code",
      "execution_count": null,
      "id": "650ab70c",
      "metadata": {
        "execution": {
          "iopub.execute_input": "2023-02-12T12:02:36.607952Z",
          "iopub.status.busy": "2023-02-12T12:02:36.607153Z",
          "iopub.status.idle": "2023-02-12T12:02:36.648525Z",
          "shell.execute_reply": "2023-02-12T12:02:36.647331Z"
        },
        "id": "650ab70c",
        "outputId": "a84e4197-443c-4569-f219-062ac835afb0",
        "papermill": {
          "duration": 0.063866,
          "end_time": "2023-02-12T12:02:36.651314",
          "exception": false,
          "start_time": "2023-02-12T12:02:36.587448",
          "status": "completed"
        },
        "tags": [],
        "colab": {
          "base_uri": "https://localhost:8080/",
          "height": 206
        }
      },
      "outputs": [
        {
          "output_type": "execute_result",
          "data": {
            "text/plain": [
              "   N_SOIL  P_SOIL  K_SOIL  TEMPERATURE   HUMIDITY        ph    RAINFALL  \\\n",
              "0      90      42      43    20.879744  82.002744  6.502985  202.935536   \n",
              "1      85      58      41    21.770462  80.319644  7.038096  226.655537   \n",
              "2      60      55      44    23.004459  82.320763  7.840207  263.964248   \n",
              "3      74      35      40    26.491096  80.158363  6.980401  242.864034   \n",
              "4      78      42      42    20.130175  81.604873  7.628473  262.717340   \n",
              "\n",
              "                 STATE  CROP_PRICE  CROP  \n",
              "0  Andaman and Nicobar        7000  Rice  \n",
              "1  Andaman and Nicobar        5000  Rice  \n",
              "2  Andaman and Nicobar        7000  Rice  \n",
              "3  Andaman and Nicobar        7000  Rice  \n",
              "4  Andaman and Nicobar      120000  Rice  "
            ],
            "text/html": [
              "\n",
              "  <div id=\"df-65979594-5586-4720-9b37-1645801ccbd1\" class=\"colab-df-container\">\n",
              "    <div>\n",
              "<style scoped>\n",
              "    .dataframe tbody tr th:only-of-type {\n",
              "        vertical-align: middle;\n",
              "    }\n",
              "\n",
              "    .dataframe tbody tr th {\n",
              "        vertical-align: top;\n",
              "    }\n",
              "\n",
              "    .dataframe thead th {\n",
              "        text-align: right;\n",
              "    }\n",
              "</style>\n",
              "<table border=\"1\" class=\"dataframe\">\n",
              "  <thead>\n",
              "    <tr style=\"text-align: right;\">\n",
              "      <th></th>\n",
              "      <th>N_SOIL</th>\n",
              "      <th>P_SOIL</th>\n",
              "      <th>K_SOIL</th>\n",
              "      <th>TEMPERATURE</th>\n",
              "      <th>HUMIDITY</th>\n",
              "      <th>ph</th>\n",
              "      <th>RAINFALL</th>\n",
              "      <th>STATE</th>\n",
              "      <th>CROP_PRICE</th>\n",
              "      <th>CROP</th>\n",
              "    </tr>\n",
              "  </thead>\n",
              "  <tbody>\n",
              "    <tr>\n",
              "      <th>0</th>\n",
              "      <td>90</td>\n",
              "      <td>42</td>\n",
              "      <td>43</td>\n",
              "      <td>20.879744</td>\n",
              "      <td>82.002744</td>\n",
              "      <td>6.502985</td>\n",
              "      <td>202.935536</td>\n",
              "      <td>Andaman and Nicobar</td>\n",
              "      <td>7000</td>\n",
              "      <td>Rice</td>\n",
              "    </tr>\n",
              "    <tr>\n",
              "      <th>1</th>\n",
              "      <td>85</td>\n",
              "      <td>58</td>\n",
              "      <td>41</td>\n",
              "      <td>21.770462</td>\n",
              "      <td>80.319644</td>\n",
              "      <td>7.038096</td>\n",
              "      <td>226.655537</td>\n",
              "      <td>Andaman and Nicobar</td>\n",
              "      <td>5000</td>\n",
              "      <td>Rice</td>\n",
              "    </tr>\n",
              "    <tr>\n",
              "      <th>2</th>\n",
              "      <td>60</td>\n",
              "      <td>55</td>\n",
              "      <td>44</td>\n",
              "      <td>23.004459</td>\n",
              "      <td>82.320763</td>\n",
              "      <td>7.840207</td>\n",
              "      <td>263.964248</td>\n",
              "      <td>Andaman and Nicobar</td>\n",
              "      <td>7000</td>\n",
              "      <td>Rice</td>\n",
              "    </tr>\n",
              "    <tr>\n",
              "      <th>3</th>\n",
              "      <td>74</td>\n",
              "      <td>35</td>\n",
              "      <td>40</td>\n",
              "      <td>26.491096</td>\n",
              "      <td>80.158363</td>\n",
              "      <td>6.980401</td>\n",
              "      <td>242.864034</td>\n",
              "      <td>Andaman and Nicobar</td>\n",
              "      <td>7000</td>\n",
              "      <td>Rice</td>\n",
              "    </tr>\n",
              "    <tr>\n",
              "      <th>4</th>\n",
              "      <td>78</td>\n",
              "      <td>42</td>\n",
              "      <td>42</td>\n",
              "      <td>20.130175</td>\n",
              "      <td>81.604873</td>\n",
              "      <td>7.628473</td>\n",
              "      <td>262.717340</td>\n",
              "      <td>Andaman and Nicobar</td>\n",
              "      <td>120000</td>\n",
              "      <td>Rice</td>\n",
              "    </tr>\n",
              "  </tbody>\n",
              "</table>\n",
              "</div>\n",
              "    <div class=\"colab-df-buttons\">\n",
              "\n",
              "  <div class=\"colab-df-container\">\n",
              "    <button class=\"colab-df-convert\" onclick=\"convertToInteractive('df-65979594-5586-4720-9b37-1645801ccbd1')\"\n",
              "            title=\"Convert this dataframe to an interactive table.\"\n",
              "            style=\"display:none;\">\n",
              "\n",
              "  <svg xmlns=\"http://www.w3.org/2000/svg\" height=\"24px\" viewBox=\"0 -960 960 960\">\n",
              "    <path d=\"M120-120v-720h720v720H120Zm60-500h600v-160H180v160Zm220 220h160v-160H400v160Zm0 220h160v-160H400v160ZM180-400h160v-160H180v160Zm440 0h160v-160H620v160ZM180-180h160v-160H180v160Zm440 0h160v-160H620v160Z\"/>\n",
              "  </svg>\n",
              "    </button>\n",
              "\n",
              "  <style>\n",
              "    .colab-df-container {\n",
              "      display:flex;\n",
              "      gap: 12px;\n",
              "    }\n",
              "\n",
              "    .colab-df-convert {\n",
              "      background-color: #E8F0FE;\n",
              "      border: none;\n",
              "      border-radius: 50%;\n",
              "      cursor: pointer;\n",
              "      display: none;\n",
              "      fill: #1967D2;\n",
              "      height: 32px;\n",
              "      padding: 0 0 0 0;\n",
              "      width: 32px;\n",
              "    }\n",
              "\n",
              "    .colab-df-convert:hover {\n",
              "      background-color: #E2EBFA;\n",
              "      box-shadow: 0px 1px 2px rgba(60, 64, 67, 0.3), 0px 1px 3px 1px rgba(60, 64, 67, 0.15);\n",
              "      fill: #174EA6;\n",
              "    }\n",
              "\n",
              "    .colab-df-buttons div {\n",
              "      margin-bottom: 4px;\n",
              "    }\n",
              "\n",
              "    [theme=dark] .colab-df-convert {\n",
              "      background-color: #3B4455;\n",
              "      fill: #D2E3FC;\n",
              "    }\n",
              "\n",
              "    [theme=dark] .colab-df-convert:hover {\n",
              "      background-color: #434B5C;\n",
              "      box-shadow: 0px 1px 3px 1px rgba(0, 0, 0, 0.15);\n",
              "      filter: drop-shadow(0px 1px 2px rgba(0, 0, 0, 0.3));\n",
              "      fill: #FFFFFF;\n",
              "    }\n",
              "  </style>\n",
              "\n",
              "    <script>\n",
              "      const buttonEl =\n",
              "        document.querySelector('#df-65979594-5586-4720-9b37-1645801ccbd1 button.colab-df-convert');\n",
              "      buttonEl.style.display =\n",
              "        google.colab.kernel.accessAllowed ? 'block' : 'none';\n",
              "\n",
              "      async function convertToInteractive(key) {\n",
              "        const element = document.querySelector('#df-65979594-5586-4720-9b37-1645801ccbd1');\n",
              "        const dataTable =\n",
              "          await google.colab.kernel.invokeFunction('convertToInteractive',\n",
              "                                                    [key], {});\n",
              "        if (!dataTable) return;\n",
              "\n",
              "        const docLinkHtml = 'Like what you see? Visit the ' +\n",
              "          '<a target=\"_blank\" href=https://colab.research.google.com/notebooks/data_table.ipynb>data table notebook</a>'\n",
              "          + ' to learn more about interactive tables.';\n",
              "        element.innerHTML = '';\n",
              "        dataTable['output_type'] = 'display_data';\n",
              "        await google.colab.output.renderOutput(dataTable, element);\n",
              "        const docLink = document.createElement('div');\n",
              "        docLink.innerHTML = docLinkHtml;\n",
              "        element.appendChild(docLink);\n",
              "      }\n",
              "    </script>\n",
              "  </div>\n",
              "\n",
              "\n",
              "<div id=\"df-b50b6538-2bf9-4c89-b8ee-052c27b435d5\">\n",
              "  <button class=\"colab-df-quickchart\" onclick=\"quickchart('df-b50b6538-2bf9-4c89-b8ee-052c27b435d5')\"\n",
              "            title=\"Suggest charts\"\n",
              "            style=\"display:none;\">\n",
              "\n",
              "<svg xmlns=\"http://www.w3.org/2000/svg\" height=\"24px\"viewBox=\"0 0 24 24\"\n",
              "     width=\"24px\">\n",
              "    <g>\n",
              "        <path d=\"M19 3H5c-1.1 0-2 .9-2 2v14c0 1.1.9 2 2 2h14c1.1 0 2-.9 2-2V5c0-1.1-.9-2-2-2zM9 17H7v-7h2v7zm4 0h-2V7h2v10zm4 0h-2v-4h2v4z\"/>\n",
              "    </g>\n",
              "</svg>\n",
              "  </button>\n",
              "\n",
              "<style>\n",
              "  .colab-df-quickchart {\n",
              "      --bg-color: #E8F0FE;\n",
              "      --fill-color: #1967D2;\n",
              "      --hover-bg-color: #E2EBFA;\n",
              "      --hover-fill-color: #174EA6;\n",
              "      --disabled-fill-color: #AAA;\n",
              "      --disabled-bg-color: #DDD;\n",
              "  }\n",
              "\n",
              "  [theme=dark] .colab-df-quickchart {\n",
              "      --bg-color: #3B4455;\n",
              "      --fill-color: #D2E3FC;\n",
              "      --hover-bg-color: #434B5C;\n",
              "      --hover-fill-color: #FFFFFF;\n",
              "      --disabled-bg-color: #3B4455;\n",
              "      --disabled-fill-color: #666;\n",
              "  }\n",
              "\n",
              "  .colab-df-quickchart {\n",
              "    background-color: var(--bg-color);\n",
              "    border: none;\n",
              "    border-radius: 50%;\n",
              "    cursor: pointer;\n",
              "    display: none;\n",
              "    fill: var(--fill-color);\n",
              "    height: 32px;\n",
              "    padding: 0;\n",
              "    width: 32px;\n",
              "  }\n",
              "\n",
              "  .colab-df-quickchart:hover {\n",
              "    background-color: var(--hover-bg-color);\n",
              "    box-shadow: 0 1px 2px rgba(60, 64, 67, 0.3), 0 1px 3px 1px rgba(60, 64, 67, 0.15);\n",
              "    fill: var(--button-hover-fill-color);\n",
              "  }\n",
              "\n",
              "  .colab-df-quickchart-complete:disabled,\n",
              "  .colab-df-quickchart-complete:disabled:hover {\n",
              "    background-color: var(--disabled-bg-color);\n",
              "    fill: var(--disabled-fill-color);\n",
              "    box-shadow: none;\n",
              "  }\n",
              "\n",
              "  .colab-df-spinner {\n",
              "    border: 2px solid var(--fill-color);\n",
              "    border-color: transparent;\n",
              "    border-bottom-color: var(--fill-color);\n",
              "    animation:\n",
              "      spin 1s steps(1) infinite;\n",
              "  }\n",
              "\n",
              "  @keyframes spin {\n",
              "    0% {\n",
              "      border-color: transparent;\n",
              "      border-bottom-color: var(--fill-color);\n",
              "      border-left-color: var(--fill-color);\n",
              "    }\n",
              "    20% {\n",
              "      border-color: transparent;\n",
              "      border-left-color: var(--fill-color);\n",
              "      border-top-color: var(--fill-color);\n",
              "    }\n",
              "    30% {\n",
              "      border-color: transparent;\n",
              "      border-left-color: var(--fill-color);\n",
              "      border-top-color: var(--fill-color);\n",
              "      border-right-color: var(--fill-color);\n",
              "    }\n",
              "    40% {\n",
              "      border-color: transparent;\n",
              "      border-right-color: var(--fill-color);\n",
              "      border-top-color: var(--fill-color);\n",
              "    }\n",
              "    60% {\n",
              "      border-color: transparent;\n",
              "      border-right-color: var(--fill-color);\n",
              "    }\n",
              "    80% {\n",
              "      border-color: transparent;\n",
              "      border-right-color: var(--fill-color);\n",
              "      border-bottom-color: var(--fill-color);\n",
              "    }\n",
              "    90% {\n",
              "      border-color: transparent;\n",
              "      border-bottom-color: var(--fill-color);\n",
              "    }\n",
              "  }\n",
              "</style>\n",
              "\n",
              "  <script>\n",
              "    async function quickchart(key) {\n",
              "      const quickchartButtonEl =\n",
              "        document.querySelector('#' + key + ' button');\n",
              "      quickchartButtonEl.disabled = true;  // To prevent multiple clicks.\n",
              "      quickchartButtonEl.classList.add('colab-df-spinner');\n",
              "      try {\n",
              "        const charts = await google.colab.kernel.invokeFunction(\n",
              "            'suggestCharts', [key], {});\n",
              "      } catch (error) {\n",
              "        console.error('Error during call to suggestCharts:', error);\n",
              "      }\n",
              "      quickchartButtonEl.classList.remove('colab-df-spinner');\n",
              "      quickchartButtonEl.classList.add('colab-df-quickchart-complete');\n",
              "    }\n",
              "    (() => {\n",
              "      let quickchartButtonEl =\n",
              "        document.querySelector('#df-b50b6538-2bf9-4c89-b8ee-052c27b435d5 button');\n",
              "      quickchartButtonEl.style.display =\n",
              "        google.colab.kernel.accessAllowed ? 'block' : 'none';\n",
              "    })();\n",
              "  </script>\n",
              "</div>\n",
              "    </div>\n",
              "  </div>\n"
            ]
          },
          "metadata": {},
          "execution_count": 3
        }
      ],
      "source": [
        "df=pd.read_csv(\"/content/drive/MyDrive/m&o_Task1/indiancrop_dataset.csv\")\n",
        "df.head()"
      ]
    },
    {
      "cell_type": "code",
      "execution_count": null,
      "id": "b284a09f",
      "metadata": {
        "execution": {
          "iopub.execute_input": "2023-02-12T12:02:36.691088Z",
          "iopub.status.busy": "2023-02-12T12:02:36.690315Z",
          "iopub.status.idle": "2023-02-12T12:02:36.716066Z",
          "shell.execute_reply": "2023-02-12T12:02:36.714450Z"
        },
        "id": "b284a09f",
        "outputId": "f791b70b-9b1a-454f-8242-dc1838bcc4c5",
        "papermill": {
          "duration": 0.048429,
          "end_time": "2023-02-12T12:02:36.718976",
          "exception": false,
          "start_time": "2023-02-12T12:02:36.670547",
          "status": "completed"
        },
        "tags": [],
        "colab": {
          "base_uri": "https://localhost:8080/"
        }
      },
      "outputs": [
        {
          "output_type": "stream",
          "name": "stdout",
          "text": [
            "<class 'pandas.core.frame.DataFrame'>\n",
            "RangeIndex: 2200 entries, 0 to 2199\n",
            "Data columns (total 10 columns):\n",
            " #   Column       Non-Null Count  Dtype  \n",
            "---  ------       --------------  -----  \n",
            " 0   N_SOIL       2200 non-null   int64  \n",
            " 1   P_SOIL       2200 non-null   int64  \n",
            " 2   K_SOIL       2200 non-null   int64  \n",
            " 3   TEMPERATURE  2200 non-null   float64\n",
            " 4   HUMIDITY     2200 non-null   float64\n",
            " 5   ph           2200 non-null   float64\n",
            " 6   RAINFALL     2200 non-null   float64\n",
            " 7   STATE        2200 non-null   object \n",
            " 8   CROP_PRICE   2200 non-null   int64  \n",
            " 9   CROP         2200 non-null   object \n",
            "dtypes: float64(4), int64(4), object(2)\n",
            "memory usage: 172.0+ KB\n"
          ]
        }
      ],
      "source": [
        "df.info()"
      ]
    },
    {
      "cell_type": "markdown",
      "id": "83a21f9b",
      "metadata": {
        "papermill": {
          "duration": 0.018054,
          "end_time": "2023-02-12T12:02:36.755599",
          "exception": false,
          "start_time": "2023-02-12T12:02:36.737545",
          "status": "completed"
        },
        "tags": [],
        "id": "83a21f9b"
      },
      "source": [
        "# **DATA PREPROCESSING**"
      ]
    },
    {
      "cell_type": "code",
      "execution_count": null,
      "id": "f638b0f5",
      "metadata": {
        "execution": {
          "iopub.execute_input": "2023-02-12T12:02:36.794251Z",
          "iopub.status.busy": "2023-02-12T12:02:36.793674Z",
          "iopub.status.idle": "2023-02-12T12:02:36.804320Z",
          "shell.execute_reply": "2023-02-12T12:02:36.803012Z"
        },
        "id": "f638b0f5",
        "outputId": "0f66faef-9c31-4251-e4ca-92284d3526af",
        "papermill": {
          "duration": 0.032565,
          "end_time": "2023-02-12T12:02:36.806618",
          "exception": false,
          "start_time": "2023-02-12T12:02:36.774053",
          "status": "completed"
        },
        "tags": [],
        "colab": {
          "base_uri": "https://localhost:8080/"
        }
      },
      "outputs": [
        {
          "output_type": "execute_result",
          "data": {
            "text/plain": [
              "N_SOIL         0\n",
              "P_SOIL         0\n",
              "K_SOIL         0\n",
              "TEMPERATURE    0\n",
              "HUMIDITY       0\n",
              "ph             0\n",
              "RAINFALL       0\n",
              "STATE          0\n",
              "CROP_PRICE     0\n",
              "CROP           0\n",
              "dtype: int64"
            ]
          },
          "metadata": {},
          "execution_count": 5
        }
      ],
      "source": [
        "df.isnull().sum()"
      ]
    },
    {
      "cell_type": "code",
      "execution_count": null,
      "id": "e6087ba9",
      "metadata": {
        "execution": {
          "iopub.execute_input": "2023-02-12T12:02:36.846784Z",
          "iopub.status.busy": "2023-02-12T12:02:36.846087Z",
          "iopub.status.idle": "2023-02-12T12:02:36.865109Z",
          "shell.execute_reply": "2023-02-12T12:02:36.863933Z"
        },
        "id": "e6087ba9",
        "outputId": "9121915f-a7e1-4fb6-de2e-25797537f284",
        "papermill": {
          "duration": 0.04207,
          "end_time": "2023-02-12T12:02:36.867346",
          "exception": false,
          "start_time": "2023-02-12T12:02:36.825276",
          "status": "completed"
        },
        "tags": [],
        "colab": {
          "base_uri": "https://localhost:8080/",
          "height": 355
        }
      },
      "outputs": [
        {
          "output_type": "stream",
          "name": "stderr",
          "text": [
            "<ipython-input-6-2f6f6606aa2c>:1: FutureWarning: The default value of numeric_only in DataFrame.corr is deprecated. In a future version, it will default to False. Select only valid columns or specify the value of numeric_only to silence this warning.\n",
            "  df.corr()\n"
          ]
        },
        {
          "output_type": "execute_result",
          "data": {
            "text/plain": [
              "               N_SOIL    P_SOIL    K_SOIL  TEMPERATURE  HUMIDITY        ph  \\\n",
              "N_SOIL       1.000000 -0.231460 -0.140512     0.026504  0.190688  0.096683   \n",
              "P_SOIL      -0.231460  1.000000  0.736232    -0.127541 -0.118734 -0.138019   \n",
              "K_SOIL      -0.140512  0.736232  1.000000    -0.160387  0.190859 -0.169503   \n",
              "TEMPERATURE  0.026504 -0.127541 -0.160387     1.000000  0.205320 -0.017795   \n",
              "HUMIDITY     0.190688 -0.118734  0.190859     0.205320  1.000000 -0.008483   \n",
              "ph           0.096683 -0.138019 -0.169503    -0.017795 -0.008483  1.000000   \n",
              "RAINFALL     0.059020 -0.063839 -0.053461    -0.030084  0.094423 -0.109069   \n",
              "CROP_PRICE  -0.001302 -0.023683 -0.021923    -0.029044 -0.041414 -0.033548   \n",
              "\n",
              "             RAINFALL  CROP_PRICE  \n",
              "N_SOIL       0.059020   -0.001302  \n",
              "P_SOIL      -0.063839   -0.023683  \n",
              "K_SOIL      -0.053461   -0.021923  \n",
              "TEMPERATURE -0.030084   -0.029044  \n",
              "HUMIDITY     0.094423   -0.041414  \n",
              "ph          -0.109069   -0.033548  \n",
              "RAINFALL     1.000000    0.058847  \n",
              "CROP_PRICE   0.058847    1.000000  "
            ],
            "text/html": [
              "\n",
              "  <div id=\"df-d952c67a-acb8-4c76-81f2-516b4409899e\" class=\"colab-df-container\">\n",
              "    <div>\n",
              "<style scoped>\n",
              "    .dataframe tbody tr th:only-of-type {\n",
              "        vertical-align: middle;\n",
              "    }\n",
              "\n",
              "    .dataframe tbody tr th {\n",
              "        vertical-align: top;\n",
              "    }\n",
              "\n",
              "    .dataframe thead th {\n",
              "        text-align: right;\n",
              "    }\n",
              "</style>\n",
              "<table border=\"1\" class=\"dataframe\">\n",
              "  <thead>\n",
              "    <tr style=\"text-align: right;\">\n",
              "      <th></th>\n",
              "      <th>N_SOIL</th>\n",
              "      <th>P_SOIL</th>\n",
              "      <th>K_SOIL</th>\n",
              "      <th>TEMPERATURE</th>\n",
              "      <th>HUMIDITY</th>\n",
              "      <th>ph</th>\n",
              "      <th>RAINFALL</th>\n",
              "      <th>CROP_PRICE</th>\n",
              "    </tr>\n",
              "  </thead>\n",
              "  <tbody>\n",
              "    <tr>\n",
              "      <th>N_SOIL</th>\n",
              "      <td>1.000000</td>\n",
              "      <td>-0.231460</td>\n",
              "      <td>-0.140512</td>\n",
              "      <td>0.026504</td>\n",
              "      <td>0.190688</td>\n",
              "      <td>0.096683</td>\n",
              "      <td>0.059020</td>\n",
              "      <td>-0.001302</td>\n",
              "    </tr>\n",
              "    <tr>\n",
              "      <th>P_SOIL</th>\n",
              "      <td>-0.231460</td>\n",
              "      <td>1.000000</td>\n",
              "      <td>0.736232</td>\n",
              "      <td>-0.127541</td>\n",
              "      <td>-0.118734</td>\n",
              "      <td>-0.138019</td>\n",
              "      <td>-0.063839</td>\n",
              "      <td>-0.023683</td>\n",
              "    </tr>\n",
              "    <tr>\n",
              "      <th>K_SOIL</th>\n",
              "      <td>-0.140512</td>\n",
              "      <td>0.736232</td>\n",
              "      <td>1.000000</td>\n",
              "      <td>-0.160387</td>\n",
              "      <td>0.190859</td>\n",
              "      <td>-0.169503</td>\n",
              "      <td>-0.053461</td>\n",
              "      <td>-0.021923</td>\n",
              "    </tr>\n",
              "    <tr>\n",
              "      <th>TEMPERATURE</th>\n",
              "      <td>0.026504</td>\n",
              "      <td>-0.127541</td>\n",
              "      <td>-0.160387</td>\n",
              "      <td>1.000000</td>\n",
              "      <td>0.205320</td>\n",
              "      <td>-0.017795</td>\n",
              "      <td>-0.030084</td>\n",
              "      <td>-0.029044</td>\n",
              "    </tr>\n",
              "    <tr>\n",
              "      <th>HUMIDITY</th>\n",
              "      <td>0.190688</td>\n",
              "      <td>-0.118734</td>\n",
              "      <td>0.190859</td>\n",
              "      <td>0.205320</td>\n",
              "      <td>1.000000</td>\n",
              "      <td>-0.008483</td>\n",
              "      <td>0.094423</td>\n",
              "      <td>-0.041414</td>\n",
              "    </tr>\n",
              "    <tr>\n",
              "      <th>ph</th>\n",
              "      <td>0.096683</td>\n",
              "      <td>-0.138019</td>\n",
              "      <td>-0.169503</td>\n",
              "      <td>-0.017795</td>\n",
              "      <td>-0.008483</td>\n",
              "      <td>1.000000</td>\n",
              "      <td>-0.109069</td>\n",
              "      <td>-0.033548</td>\n",
              "    </tr>\n",
              "    <tr>\n",
              "      <th>RAINFALL</th>\n",
              "      <td>0.059020</td>\n",
              "      <td>-0.063839</td>\n",
              "      <td>-0.053461</td>\n",
              "      <td>-0.030084</td>\n",
              "      <td>0.094423</td>\n",
              "      <td>-0.109069</td>\n",
              "      <td>1.000000</td>\n",
              "      <td>0.058847</td>\n",
              "    </tr>\n",
              "    <tr>\n",
              "      <th>CROP_PRICE</th>\n",
              "      <td>-0.001302</td>\n",
              "      <td>-0.023683</td>\n",
              "      <td>-0.021923</td>\n",
              "      <td>-0.029044</td>\n",
              "      <td>-0.041414</td>\n",
              "      <td>-0.033548</td>\n",
              "      <td>0.058847</td>\n",
              "      <td>1.000000</td>\n",
              "    </tr>\n",
              "  </tbody>\n",
              "</table>\n",
              "</div>\n",
              "    <div class=\"colab-df-buttons\">\n",
              "\n",
              "  <div class=\"colab-df-container\">\n",
              "    <button class=\"colab-df-convert\" onclick=\"convertToInteractive('df-d952c67a-acb8-4c76-81f2-516b4409899e')\"\n",
              "            title=\"Convert this dataframe to an interactive table.\"\n",
              "            style=\"display:none;\">\n",
              "\n",
              "  <svg xmlns=\"http://www.w3.org/2000/svg\" height=\"24px\" viewBox=\"0 -960 960 960\">\n",
              "    <path d=\"M120-120v-720h720v720H120Zm60-500h600v-160H180v160Zm220 220h160v-160H400v160Zm0 220h160v-160H400v160ZM180-400h160v-160H180v160Zm440 0h160v-160H620v160ZM180-180h160v-160H180v160Zm440 0h160v-160H620v160Z\"/>\n",
              "  </svg>\n",
              "    </button>\n",
              "\n",
              "  <style>\n",
              "    .colab-df-container {\n",
              "      display:flex;\n",
              "      gap: 12px;\n",
              "    }\n",
              "\n",
              "    .colab-df-convert {\n",
              "      background-color: #E8F0FE;\n",
              "      border: none;\n",
              "      border-radius: 50%;\n",
              "      cursor: pointer;\n",
              "      display: none;\n",
              "      fill: #1967D2;\n",
              "      height: 32px;\n",
              "      padding: 0 0 0 0;\n",
              "      width: 32px;\n",
              "    }\n",
              "\n",
              "    .colab-df-convert:hover {\n",
              "      background-color: #E2EBFA;\n",
              "      box-shadow: 0px 1px 2px rgba(60, 64, 67, 0.3), 0px 1px 3px 1px rgba(60, 64, 67, 0.15);\n",
              "      fill: #174EA6;\n",
              "    }\n",
              "\n",
              "    .colab-df-buttons div {\n",
              "      margin-bottom: 4px;\n",
              "    }\n",
              "\n",
              "    [theme=dark] .colab-df-convert {\n",
              "      background-color: #3B4455;\n",
              "      fill: #D2E3FC;\n",
              "    }\n",
              "\n",
              "    [theme=dark] .colab-df-convert:hover {\n",
              "      background-color: #434B5C;\n",
              "      box-shadow: 0px 1px 3px 1px rgba(0, 0, 0, 0.15);\n",
              "      filter: drop-shadow(0px 1px 2px rgba(0, 0, 0, 0.3));\n",
              "      fill: #FFFFFF;\n",
              "    }\n",
              "  </style>\n",
              "\n",
              "    <script>\n",
              "      const buttonEl =\n",
              "        document.querySelector('#df-d952c67a-acb8-4c76-81f2-516b4409899e button.colab-df-convert');\n",
              "      buttonEl.style.display =\n",
              "        google.colab.kernel.accessAllowed ? 'block' : 'none';\n",
              "\n",
              "      async function convertToInteractive(key) {\n",
              "        const element = document.querySelector('#df-d952c67a-acb8-4c76-81f2-516b4409899e');\n",
              "        const dataTable =\n",
              "          await google.colab.kernel.invokeFunction('convertToInteractive',\n",
              "                                                    [key], {});\n",
              "        if (!dataTable) return;\n",
              "\n",
              "        const docLinkHtml = 'Like what you see? Visit the ' +\n",
              "          '<a target=\"_blank\" href=https://colab.research.google.com/notebooks/data_table.ipynb>data table notebook</a>'\n",
              "          + ' to learn more about interactive tables.';\n",
              "        element.innerHTML = '';\n",
              "        dataTable['output_type'] = 'display_data';\n",
              "        await google.colab.output.renderOutput(dataTable, element);\n",
              "        const docLink = document.createElement('div');\n",
              "        docLink.innerHTML = docLinkHtml;\n",
              "        element.appendChild(docLink);\n",
              "      }\n",
              "    </script>\n",
              "  </div>\n",
              "\n",
              "\n",
              "<div id=\"df-46d7b55b-179d-4ecf-a659-1f18aa3f7def\">\n",
              "  <button class=\"colab-df-quickchart\" onclick=\"quickchart('df-46d7b55b-179d-4ecf-a659-1f18aa3f7def')\"\n",
              "            title=\"Suggest charts\"\n",
              "            style=\"display:none;\">\n",
              "\n",
              "<svg xmlns=\"http://www.w3.org/2000/svg\" height=\"24px\"viewBox=\"0 0 24 24\"\n",
              "     width=\"24px\">\n",
              "    <g>\n",
              "        <path d=\"M19 3H5c-1.1 0-2 .9-2 2v14c0 1.1.9 2 2 2h14c1.1 0 2-.9 2-2V5c0-1.1-.9-2-2-2zM9 17H7v-7h2v7zm4 0h-2V7h2v10zm4 0h-2v-4h2v4z\"/>\n",
              "    </g>\n",
              "</svg>\n",
              "  </button>\n",
              "\n",
              "<style>\n",
              "  .colab-df-quickchart {\n",
              "      --bg-color: #E8F0FE;\n",
              "      --fill-color: #1967D2;\n",
              "      --hover-bg-color: #E2EBFA;\n",
              "      --hover-fill-color: #174EA6;\n",
              "      --disabled-fill-color: #AAA;\n",
              "      --disabled-bg-color: #DDD;\n",
              "  }\n",
              "\n",
              "  [theme=dark] .colab-df-quickchart {\n",
              "      --bg-color: #3B4455;\n",
              "      --fill-color: #D2E3FC;\n",
              "      --hover-bg-color: #434B5C;\n",
              "      --hover-fill-color: #FFFFFF;\n",
              "      --disabled-bg-color: #3B4455;\n",
              "      --disabled-fill-color: #666;\n",
              "  }\n",
              "\n",
              "  .colab-df-quickchart {\n",
              "    background-color: var(--bg-color);\n",
              "    border: none;\n",
              "    border-radius: 50%;\n",
              "    cursor: pointer;\n",
              "    display: none;\n",
              "    fill: var(--fill-color);\n",
              "    height: 32px;\n",
              "    padding: 0;\n",
              "    width: 32px;\n",
              "  }\n",
              "\n",
              "  .colab-df-quickchart:hover {\n",
              "    background-color: var(--hover-bg-color);\n",
              "    box-shadow: 0 1px 2px rgba(60, 64, 67, 0.3), 0 1px 3px 1px rgba(60, 64, 67, 0.15);\n",
              "    fill: var(--button-hover-fill-color);\n",
              "  }\n",
              "\n",
              "  .colab-df-quickchart-complete:disabled,\n",
              "  .colab-df-quickchart-complete:disabled:hover {\n",
              "    background-color: var(--disabled-bg-color);\n",
              "    fill: var(--disabled-fill-color);\n",
              "    box-shadow: none;\n",
              "  }\n",
              "\n",
              "  .colab-df-spinner {\n",
              "    border: 2px solid var(--fill-color);\n",
              "    border-color: transparent;\n",
              "    border-bottom-color: var(--fill-color);\n",
              "    animation:\n",
              "      spin 1s steps(1) infinite;\n",
              "  }\n",
              "\n",
              "  @keyframes spin {\n",
              "    0% {\n",
              "      border-color: transparent;\n",
              "      border-bottom-color: var(--fill-color);\n",
              "      border-left-color: var(--fill-color);\n",
              "    }\n",
              "    20% {\n",
              "      border-color: transparent;\n",
              "      border-left-color: var(--fill-color);\n",
              "      border-top-color: var(--fill-color);\n",
              "    }\n",
              "    30% {\n",
              "      border-color: transparent;\n",
              "      border-left-color: var(--fill-color);\n",
              "      border-top-color: var(--fill-color);\n",
              "      border-right-color: var(--fill-color);\n",
              "    }\n",
              "    40% {\n",
              "      border-color: transparent;\n",
              "      border-right-color: var(--fill-color);\n",
              "      border-top-color: var(--fill-color);\n",
              "    }\n",
              "    60% {\n",
              "      border-color: transparent;\n",
              "      border-right-color: var(--fill-color);\n",
              "    }\n",
              "    80% {\n",
              "      border-color: transparent;\n",
              "      border-right-color: var(--fill-color);\n",
              "      border-bottom-color: var(--fill-color);\n",
              "    }\n",
              "    90% {\n",
              "      border-color: transparent;\n",
              "      border-bottom-color: var(--fill-color);\n",
              "    }\n",
              "  }\n",
              "</style>\n",
              "\n",
              "  <script>\n",
              "    async function quickchart(key) {\n",
              "      const quickchartButtonEl =\n",
              "        document.querySelector('#' + key + ' button');\n",
              "      quickchartButtonEl.disabled = true;  // To prevent multiple clicks.\n",
              "      quickchartButtonEl.classList.add('colab-df-spinner');\n",
              "      try {\n",
              "        const charts = await google.colab.kernel.invokeFunction(\n",
              "            'suggestCharts', [key], {});\n",
              "      } catch (error) {\n",
              "        console.error('Error during call to suggestCharts:', error);\n",
              "      }\n",
              "      quickchartButtonEl.classList.remove('colab-df-spinner');\n",
              "      quickchartButtonEl.classList.add('colab-df-quickchart-complete');\n",
              "    }\n",
              "    (() => {\n",
              "      let quickchartButtonEl =\n",
              "        document.querySelector('#df-46d7b55b-179d-4ecf-a659-1f18aa3f7def button');\n",
              "      quickchartButtonEl.style.display =\n",
              "        google.colab.kernel.accessAllowed ? 'block' : 'none';\n",
              "    })();\n",
              "  </script>\n",
              "</div>\n",
              "    </div>\n",
              "  </div>\n"
            ]
          },
          "metadata": {},
          "execution_count": 6
        }
      ],
      "source": [
        "df.corr()"
      ]
    },
    {
      "cell_type": "code",
      "execution_count": null,
      "id": "f49f4eba",
      "metadata": {
        "execution": {
          "iopub.execute_input": "2023-02-12T12:02:36.906938Z",
          "iopub.status.busy": "2023-02-12T12:02:36.906291Z",
          "iopub.status.idle": "2023-02-12T12:02:37.216909Z",
          "shell.execute_reply": "2023-02-12T12:02:37.215567Z"
        },
        "papermill": {
          "duration": 0.333582,
          "end_time": "2023-02-12T12:02:37.219649",
          "exception": false,
          "start_time": "2023-02-12T12:02:36.886067",
          "status": "completed"
        },
        "tags": [],
        "colab": {
          "base_uri": "https://localhost:8080/",
          "height": 594
        },
        "id": "f49f4eba",
        "outputId": "6dc52c41-ba12-4ab5-e5fb-0a926b7250c8"
      },
      "outputs": [
        {
          "output_type": "stream",
          "name": "stderr",
          "text": [
            "<ipython-input-7-a72216714ba9>:1: FutureWarning: The default value of numeric_only in DataFrame.corr is deprecated. In a future version, it will default to False. Select only valid columns or specify the value of numeric_only to silence this warning.\n",
            "  sns.heatmap(df.corr(),cmap=\"crest\")\n"
          ]
        },
        {
          "output_type": "execute_result",
          "data": {
            "text/plain": [
              "<Axes: >"
            ]
          },
          "metadata": {},
          "execution_count": 7
        },
        {
          "output_type": "display_data",
          "data": {
            "text/plain": [
              "<Figure size 640x480 with 2 Axes>"
            ],
            "image/png": "[encoded data removed]"
          },
          "metadata": {}
        }
      ],
      "source": [
        "sns.heatmap(df.corr(),cmap=\"crest\")"
      ]
    },
    {
      "cell_type": "code",
      "execution_count": null,
      "id": "c6058fb7",
      "metadata": {
        "execution": {
          "iopub.execute_input": "2023-02-12T12:02:37.261364Z",
          "iopub.status.busy": "2023-02-12T12:02:37.260630Z",
          "iopub.status.idle": "2023-02-12T12:02:37.274356Z",
          "shell.execute_reply": "2023-02-12T12:02:37.273166Z"
        },
        "id": "c6058fb7",
        "outputId": "e1e89fb0-a3ce-4ae8-afda-e2c50bb998d0",
        "papermill": {
          "duration": 0.037401,
          "end_time": "2023-02-12T12:02:37.276759",
          "exception": false,
          "start_time": "2023-02-12T12:02:37.239358",
          "status": "completed"
        },
        "tags": [],
        "colab": {
          "base_uri": "https://localhost:8080/"
        }
      },
      "outputs": [
        {
          "output_type": "execute_result",
          "data": {
            "text/plain": [
              "N_SOIL          137\n",
              "P_SOIL          117\n",
              "K_SOIL           73\n",
              "TEMPERATURE    2200\n",
              "HUMIDITY       2200\n",
              "ph             2200\n",
              "RAINFALL       2200\n",
              "STATE            26\n",
              "CROP_PRICE      502\n",
              "CROP             22\n",
              "dtype: int64"
            ]
          },
          "metadata": {},
          "execution_count": 8
        }
      ],
      "source": [
        "df.nunique()"
      ]
    },
    {
      "cell_type": "code",
      "execution_count": null,
      "id": "f02787db",
      "metadata": {
        "execution": {
          "iopub.execute_input": "2023-02-12T12:02:37.317392Z",
          "iopub.status.busy": "2023-02-12T12:02:37.316950Z",
          "iopub.status.idle": "2023-02-12T12:02:37.324647Z",
          "shell.execute_reply": "2023-02-12T12:02:37.323294Z"
        },
        "id": "f02787db",
        "outputId": "659160a9-591c-4d5f-85b8-6234d635dcea",
        "papermill": {
          "duration": 0.031106,
          "end_time": "2023-02-12T12:02:37.327103",
          "exception": false,
          "start_time": "2023-02-12T12:02:37.295997",
          "status": "completed"
        },
        "tags": [],
        "colab": {
          "base_uri": "https://localhost:8080/"
        }
      },
      "outputs": [
        {
          "output_type": "execute_result",
          "data": {
            "text/plain": [
              "array(['Rice', 'Maize', 'ChickPea', 'KidneyBeans', 'PigeonPeas',\n",
              "       'MothBeans', 'MungBean', 'Blackgram', 'Lentil', 'Pomegranate',\n",
              "       'Banana', 'Mango', 'Grapes', 'Watermelon', 'Muskmelon', 'Apple',\n",
              "       'Orange', 'Papaya', 'Coconut', 'Cotton', 'Jute', 'Coffee'],\n",
              "      dtype=object)"
            ]
          },
          "metadata": {},
          "execution_count": 9
        }
      ],
      "source": [
        "df.CROP.unique()"
      ]
    },
    {
      "cell_type": "code",
      "execution_count": null,
      "id": "91f572ed",
      "metadata": {
        "execution": {
          "iopub.execute_input": "2023-02-12T12:02:37.368267Z",
          "iopub.status.busy": "2023-02-12T12:02:37.367866Z",
          "iopub.status.idle": "2023-02-12T12:02:37.374562Z",
          "shell.execute_reply": "2023-02-12T12:02:37.373641Z"
        },
        "id": "91f572ed",
        "papermill": {
          "duration": 0.029798,
          "end_time": "2023-02-12T12:02:37.376588",
          "exception": false,
          "start_time": "2023-02-12T12:02:37.346790",
          "status": "completed"
        },
        "tags": []
      },
      "outputs": [],
      "source": [
        "df.drop(['STATE'],axis=1,inplace=True)"
      ]
    },
    {
      "cell_type": "code",
      "execution_count": null,
      "id": "11237e91",
      "metadata": {
        "execution": {
          "iopub.execute_input": "2023-02-12T12:02:37.417433Z",
          "iopub.status.busy": "2023-02-12T12:02:37.416649Z",
          "iopub.status.idle": "2023-02-12T12:02:37.435774Z",
          "shell.execute_reply": "2023-02-12T12:02:37.434543Z"
        },
        "id": "11237e91",
        "outputId": "94b9562c-1ed3-4ae7-db91-24106924e350",
        "papermill": {
          "duration": 0.042164,
          "end_time": "2023-02-12T12:02:37.438155",
          "exception": false,
          "start_time": "2023-02-12T12:02:37.395991",
          "status": "completed"
        },
        "tags": [],
        "colab": {
          "base_uri": "https://localhost:8080/",
          "height": 423
        }
      },
      "outputs": [
        {
          "output_type": "execute_result",
          "data": {
            "text/plain": [
              "      N_SOIL  P_SOIL  K_SOIL  TEMPERATURE   HUMIDITY        ph    RAINFALL  \\\n",
              "0         90      42      43    20.879744  82.002744  6.502985  202.935536   \n",
              "1         85      58      41    21.770462  80.319644  7.038096  226.655537   \n",
              "2         60      55      44    23.004459  82.320763  7.840207  263.964248   \n",
              "3         74      35      40    26.491096  80.158363  6.980401  242.864034   \n",
              "4         78      42      42    20.130175  81.604873  7.628473  262.717340   \n",
              "...      ...     ...     ...          ...        ...       ...         ...   \n",
              "2195     107      34      32    26.774637  66.413269  6.780064  177.774507   \n",
              "2196      99      15      27    27.417112  56.636362  6.086922  127.924610   \n",
              "2197     118      33      30    24.131797  67.225123  6.362608  173.322839   \n",
              "2198     117      32      34    26.272418  52.127394  6.758793  127.175293   \n",
              "2199     104      18      30    23.603016  60.396475  6.779833  140.937041   \n",
              "\n",
              "      CROP_PRICE    CROP  \n",
              "0           7000    Rice  \n",
              "1           5000    Rice  \n",
              "2           7000    Rice  \n",
              "3           7000    Rice  \n",
              "4         120000    Rice  \n",
              "...          ...     ...  \n",
              "2195        1000  Coffee  \n",
              "2196         800  Coffee  \n",
              "2197         560  Coffee  \n",
              "2198        1500  Coffee  \n",
              "2199        1400  Coffee  \n",
              "\n",
              "[2200 rows x 9 columns]"
            ],
            "text/html": [
              "\n",
              "  <div id=\"df-bb9acbbd-c2fd-412d-8a8e-666b44214fd7\" class=\"colab-df-container\">\n",
              "    <div>\n",
              "<style scoped>\n",
              "    .dataframe tbody tr th:only-of-type {\n",
              "        vertical-align: middle;\n",
              "    }\n",
              "\n",
              "    .dataframe tbody tr th {\n",
              "        vertical-align: top;\n",
              "    }\n",
              "\n",
              "    .dataframe thead th {\n",
              "        text-align: right;\n",
              "    }\n",
              "</style>\n",
              "<table border=\"1\" class=\"dataframe\">\n",
              "  <thead>\n",
              "    <tr style=\"text-align: right;\">\n",
              "      <th></th>\n",
              "      <th>N_SOIL</th>\n",
              "      <th>P_SOIL</th>\n",
              "      <th>K_SOIL</th>\n",
              "      <th>TEMPERATURE</th>\n",
              "      <th>HUMIDITY</th>\n",
              "      <th>ph</th>\n",
              "      <th>RAINFALL</th>\n",
              "      <th>CROP_PRICE</th>\n",
              "      <th>CROP</th>\n",
              "    </tr>\n",
              "  </thead>\n",
              "  <tbody>\n",
              "    <tr>\n",
              "      <th>0</th>\n",
              "      <td>90</td>\n",
              "      <td>42</td>\n",
              "      <td>43</td>\n",
              "      <td>20.879744</td>\n",
              "      <td>82.002744</td>\n",
              "      <td>6.502985</td>\n",
              "      <td>202.935536</td>\n",
              "      <td>7000</td>\n",
              "      <td>Rice</td>\n",
              "    </tr>\n",
              "    <tr>\n",
              "      <th>1</th>\n",
              "      <td>85</td>\n",
              "      <td>58</td>\n",
              "      <td>41</td>\n",
              "      <td>21.770462</td>\n",
              "      <td>80.319644</td>\n",
              "      <td>7.038096</td>\n",
              "      <td>226.655537</td>\n",
              "      <td>5000</td>\n",
              "      <td>Rice</td>\n",
              "    </tr>\n",
              "    <tr>\n",
              "      <th>2</th>\n",
              "      <td>60</td>\n",
              "      <td>55</td>\n",
              "      <td>44</td>\n",
              "      <td>23.004459</td>\n",
              "      <td>82.320763</td>\n",
              "      <td>7.840207</td>\n",
              "      <td>263.964248</td>\n",
              "      <td>7000</td>\n",
              "      <td>Rice</td>\n",
              "    </tr>\n",
              "    <tr>\n",
              "      <th>3</th>\n",
              "      <td>74</td>\n",
              "      <td>35</td>\n",
              "      <td>40</td>\n",
              "      <td>26.491096</td>\n",
              "      <td>80.158363</td>\n",
              "      <td>6.980401</td>\n",
              "      <td>242.864034</td>\n",
              "      <td>7000</td>\n",
              "      <td>Rice</td>\n",
              "    </tr>\n",
              "    <tr>\n",
              "      <th>4</th>\n",
              "      <td>78</td>\n",
              "      <td>42</td>\n",
              "      <td>42</td>\n",
              "      <td>20.130175</td>\n",
              "      <td>81.604873</td>\n",
              "      <td>7.628473</td>\n",
              "      <td>262.717340</td>\n",
              "      <td>120000</td>\n",
              "      <td>Rice</td>\n",
              "    </tr>\n",
              "    <tr>\n",
              "      <th>...</th>\n",
              "      <td>...</td>\n",
              "      <td>...</td>\n",
              "      <td>...</td>\n",
              "      <td>...</td>\n",
              "      <td>...</td>\n",
              "      <td>...</td>\n",
              "      <td>...</td>\n",
              "      <td>...</td>\n",
              "      <td>...</td>\n",
              "    </tr>\n",
              "    <tr>\n",
              "      <th>2195</th>\n",
              "      <td>107</td>\n",
              "      <td>34</td>\n",
              "      <td>32</td>\n",
              "      <td>26.774637</td>\n",
              "      <td>66.413269</td>\n",
              "      <td>6.780064</td>\n",
              "      <td>177.774507</td>\n",
              "      <td>1000</td>\n",
              "      <td>Coffee</td>\n",
              "    </tr>\n",
              "    <tr>\n",
              "      <th>2196</th>\n",
              "      <td>99</td>\n",
              "      <td>15</td>\n",
              "      <td>27</td>\n",
              "      <td>27.417112</td>\n",
              "      <td>56.636362</td>\n",
              "      <td>6.086922</td>\n",
              "      <td>127.924610</td>\n",
              "      <td>800</td>\n",
              "      <td>Coffee</td>\n",
              "    </tr>\n",
              "    <tr>\n",
              "      <th>2197</th>\n",
              "      <td>118</td>\n",
              "      <td>33</td>\n",
              "      <td>30</td>\n",
              "      <td>24.131797</td>\n",
              "      <td>67.225123</td>\n",
              "      <td>6.362608</td>\n",
              "      <td>173.322839</td>\n",
              "      <td>560</td>\n",
              "      <td>Coffee</td>\n",
              "    </tr>\n",
              "    <tr>\n",
              "      <th>2198</th>\n",
              "      <td>117</td>\n",
              "      <td>32</td>\n",
              "      <td>34</td>\n",
              "      <td>26.272418</td>\n",
              "      <td>52.127394</td>\n",
              "      <td>6.758793</td>\n",
              "      <td>127.175293</td>\n",
              "      <td>1500</td>\n",
              "      <td>Coffee</td>\n",
              "    </tr>\n",
              "    <tr>\n",
              "      <th>2199</th>\n",
              "      <td>104</td>\n",
              "      <td>18</td>\n",
              "      <td>30</td>\n",
              "      <td>23.603016</td>\n",
              "      <td>60.396475</td>\n",
              "      <td>6.779833</td>\n",
              "      <td>140.937041</td>\n",
              "      <td>1400</td>\n",
              "      <td>Coffee</td>\n",
              "    </tr>\n",
              "  </tbody>\n",
              "</table>\n",
              "<p>2200 rows × 9 columns</p>\n",
              "</div>\n",
              "    <div class=\"colab-df-buttons\">\n",
              "\n",
              "  <div class=\"colab-df-container\">\n",
              "    <button class=\"colab-df-convert\" onclick=\"convertToInteractive('df-bb9acbbd-c2fd-412d-8a8e-666b44214fd7')\"\n",
              "            title=\"Convert this dataframe to an interactive table.\"\n",
              "            style=\"display:none;\">\n",
              "\n",
              "  <svg xmlns=\"http://www.w3.org/2000/svg\" height=\"24px\" viewBox=\"0 -960 960 960\">\n",
              "    <path d=\"M120-120v-720h720v720H120Zm60-500h600v-160H180v160Zm220 220h160v-160H400v160Zm0 220h160v-160H400v160ZM180-400h160v-160H180v160Zm440 0h160v-160H620v160ZM180-180h160v-160H180v160Zm440 0h160v-160H620v160Z\"/>\n",
              "  </svg>\n",
              "    </button>\n",
              "\n",
              "  <style>\n",
              "    .colab-df-container {\n",
              "      display:flex;\n",
              "      gap: 12px;\n",
              "    }\n",
              "\n",
              "    .colab-df-convert {\n",
              "      background-color: #E8F0FE;\n",
              "      border: none;\n",
              "      border-radius: 50%;\n",
              "      cursor: pointer;\n",
              "      display: none;\n",
              "      fill: #1967D2;\n",
              "      height: 32px;\n",
              "      padding: 0 0 0 0;\n",
              "      width: 32px;\n",
              "    }\n",
              "\n",
              "    .colab-df-convert:hover {\n",
              "      background-color: #E2EBFA;\n",
              "      box-shadow: 0px 1px 2px rgba(60, 64, 67, 0.3), 0px 1px 3px 1px rgba(60, 64, 67, 0.15);\n",
              "      fill: #174EA6;\n",
              "    }\n",
              "\n",
              "    .colab-df-buttons div {\n",
              "      margin-bottom: 4px;\n",
              "    }\n",
              "\n",
              "    [theme=dark] .colab-df-convert {\n",
              "      background-color: #3B4455;\n",
              "      fill: #D2E3FC;\n",
              "    }\n",
              "\n",
              "    [theme=dark] .colab-df-convert:hover {\n",
              "      background-color: #434B5C;\n",
              "      box-shadow: 0px 1px 3px 1px rgba(0, 0, 0, 0.15);\n",
              "      filter: drop-shadow(0px 1px 2px rgba(0, 0, 0, 0.3));\n",
              "      fill: #FFFFFF;\n",
              "    }\n",
              "  </style>\n",
              "\n",
              "    <script>\n",
              "      const buttonEl =\n",
              "        document.querySelector('#df-bb9acbbd-c2fd-412d-8a8e-666b44214fd7 button.colab-df-convert');\n",
              "      buttonEl.style.display =\n",
              "        google.colab.kernel.accessAllowed ? 'block' : 'none';\n",
              "\n",
              "      async function convertToInteractive(key) {\n",
              "        const element = document.querySelector('#df-bb9acbbd-c2fd-412d-8a8e-666b44214fd7');\n",
              "        const dataTable =\n",
              "          await google.colab.kernel.invokeFunction('convertToInteractive',\n",
              "                                                    [key], {});\n",
              "        if (!dataTable) return;\n",
              "\n",
              "        const docLinkHtml = 'Like what you see? Visit the ' +\n",
              "          '<a target=\"_blank\" href=https://colab.research.google.com/notebooks/data_table.ipynb>data table notebook</a>'\n",
              "          + ' to learn more about interactive tables.';\n",
              "        element.innerHTML = '';\n",
              "        dataTable['output_type'] = 'display_data';\n",
              "        await google.colab.output.renderOutput(dataTable, element);\n",
              "        const docLink = document.createElement('div');\n",
              "        docLink.innerHTML = docLinkHtml;\n",
              "        element.appendChild(docLink);\n",
              "      }\n",
              "    </script>\n",
              "  </div>\n",
              "\n",
              "\n",
              "<div id=\"df-702fcdb3-c9fe-4af1-9182-b8179a077ac5\">\n",
              "  <button class=\"colab-df-quickchart\" onclick=\"quickchart('df-702fcdb3-c9fe-4af1-9182-b8179a077ac5')\"\n",
              "            title=\"Suggest charts\"\n",
              "            style=\"display:none;\">\n",
              "\n",
              "<svg xmlns=\"http://www.w3.org/2000/svg\" height=\"24px\"viewBox=\"0 0 24 24\"\n",
              "     width=\"24px\">\n",
              "    <g>\n",
              "        <path d=\"M19 3H5c-1.1 0-2 .9-2 2v14c0 1.1.9 2 2 2h14c1.1 0 2-.9 2-2V5c0-1.1-.9-2-2-2zM9 17H7v-7h2v7zm4 0h-2V7h2v10zm4 0h-2v-4h2v4z\"/>\n",
              "    </g>\n",
              "</svg>\n",
              "  </button>\n",
              "\n",
              "<style>\n",
              "  .colab-df-quickchart {\n",
              "      --bg-color: #E8F0FE;\n",
              "      --fill-color: #1967D2;\n",
              "      --hover-bg-color: #E2EBFA;\n",
              "      --hover-fill-color: #174EA6;\n",
              "      --disabled-fill-color: #AAA;\n",
              "      --disabled-bg-color: #DDD;\n",
              "  }\n",
              "\n",
              "  [theme=dark] .colab-df-quickchart {\n",
              "      --bg-color: #3B4455;\n",
              "      --fill-color: #D2E3FC;\n",
              "      --hover-bg-color: #434B5C;\n",
              "      --hover-fill-color: #FFFFFF;\n",
              "      --disabled-bg-color: #3B4455;\n",
              "      --disabled-fill-color: #666;\n",
              "  }\n",
              "\n",
              "  .colab-df-quickchart {\n",
              "    background-color: var(--bg-color);\n",
              "    border: none;\n",
              "    border-radius: 50%;\n",
              "    cursor: pointer;\n",
              "    display: none;\n",
              "    fill: var(--fill-color);\n",
              "    height: 32px;\n",
              "    padding: 0;\n",
              "    width: 32px;\n",
              "  }\n",
              "\n",
              "  .colab-df-quickchart:hover {\n",
              "    background-color: var(--hover-bg-color);\n",
              "    box-shadow: 0 1px 2px rgba(60, 64, 67, 0.3), 0 1px 3px 1px rgba(60, 64, 67, 0.15);\n",
              "    fill: var(--button-hover-fill-color);\n",
              "  }\n",
              "\n",
              "  .colab-df-quickchart-complete:disabled,\n",
              "  .colab-df-quickchart-complete:disabled:hover {\n",
              "    background-color: var(--disabled-bg-color);\n",
              "    fill: var(--disabled-fill-color);\n",
              "    box-shadow: none;\n",
              "  }\n",
              "\n",
              "  .colab-df-spinner {\n",
              "    border: 2px solid var(--fill-color);\n",
              "    border-color: transparent;\n",
              "    border-bottom-color: var(--fill-color);\n",
              "    animation:\n",
              "      spin 1s steps(1) infinite;\n",
              "  }\n",
              "\n",
              "  @keyframes spin {\n",
              "    0% {\n",
              "      border-color: transparent;\n",
              "      border-bottom-color: var(--fill-color);\n",
              "      border-left-color: var(--fill-color);\n",
              "    }\n",
              "    20% {\n",
              "      border-color: transparent;\n",
              "      border-left-color: var(--fill-color);\n",
              "      border-top-color: var(--fill-color);\n",
              "    }\n",
              "    30% {\n",
              "      border-color: transparent;\n",
              "      border-left-color: var(--fill-color);\n",
              "      border-top-color: var(--fill-color);\n",
              "      border-right-color: var(--fill-color);\n",
              "    }\n",
              "    40% {\n",
              "      border-color: transparent;\n",
              "      border-right-color: var(--fill-color);\n",
              "      border-top-color: var(--fill-color);\n",
              "    }\n",
              "    60% {\n",
              "      border-color: transparent;\n",
              "      border-right-color: var(--fill-color);\n",
              "    }\n",
              "    80% {\n",
              "      border-color: transparent;\n",
              "      border-right-color: var(--fill-color);\n",
              "      border-bottom-color: var(--fill-color);\n",
              "    }\n",
              "    90% {\n",
              "      border-color: transparent;\n",
              "      border-bottom-color: var(--fill-color);\n",
              "    }\n",
              "  }\n",
              "</style>\n",
              "\n",
              "  <script>\n",
              "    async function quickchart(key) {\n",
              "      const quickchartButtonEl =\n",
              "        document.querySelector('#' + key + ' button');\n",
              "      quickchartButtonEl.disabled = true;  // To prevent multiple clicks.\n",
              "      quickchartButtonEl.classList.add('colab-df-spinner');\n",
              "      try {\n",
              "        const charts = await google.colab.kernel.invokeFunction(\n",
              "            'suggestCharts', [key], {});\n",
              "      } catch (error) {\n",
              "        console.error('Error during call to suggestCharts:', error);\n",
              "      }\n",
              "      quickchartButtonEl.classList.remove('colab-df-spinner');\n",
              "      quickchartButtonEl.classList.add('colab-df-quickchart-complete');\n",
              "    }\n",
              "    (() => {\n",
              "      let quickchartButtonEl =\n",
              "        document.querySelector('#df-702fcdb3-c9fe-4af1-9182-b8179a077ac5 button');\n",
              "      quickchartButtonEl.style.display =\n",
              "        google.colab.kernel.accessAllowed ? 'block' : 'none';\n",
              "    })();\n",
              "  </script>\n",
              "</div>\n",
              "    </div>\n",
              "  </div>\n"
            ]
          },
          "metadata": {},
          "execution_count": 11
        }
      ],
      "source": [
        "df"
      ]
    },
    {
      "cell_type": "markdown",
      "id": "57994f7c",
      "metadata": {
        "papermill": {
          "duration": 0.020238,
          "end_time": "2023-02-12T12:02:37.478926",
          "exception": false,
          "start_time": "2023-02-12T12:02:37.458688",
          "status": "completed"
        },
        "tags": [],
        "id": "57994f7c"
      },
      "source": [
        "# **SKEWNESS**"
      ]
    },
    {
      "cell_type": "code",
      "execution_count": null,
      "id": "fcef1637",
      "metadata": {
        "execution": {
          "iopub.execute_input": "2023-02-12T12:02:37.522741Z",
          "iopub.status.busy": "2023-02-12T12:02:37.521493Z",
          "iopub.status.idle": "2023-02-12T12:02:37.532755Z",
          "shell.execute_reply": "2023-02-12T12:02:37.531462Z"
        },
        "id": "fcef1637",
        "outputId": "4358e392-0fcf-42e1-94c4-331997910a57",
        "papermill": {
          "duration": 0.035909,
          "end_time": "2023-02-12T12:02:37.535446",
          "exception": false,
          "start_time": "2023-02-12T12:02:37.499537",
          "status": "completed"
        },
        "tags": [],
        "colab": {
          "base_uri": "https://localhost:8080/"
        }
      },
      "outputs": [
        {
          "output_type": "stream",
          "name": "stderr",
          "text": [
            "<ipython-input-12-9e0b1e29546f>:1: FutureWarning: The default value of numeric_only in DataFrame.skew is deprecated. In a future version, it will default to False. In addition, specifying 'numeric_only=None' is deprecated. Select only valid columns or specify the value of numeric_only to silence this warning.\n",
            "  df.skew()\n"
          ]
        },
        {
          "output_type": "execute_result",
          "data": {
            "text/plain": [
              "N_SOIL          0.509721\n",
              "P_SOIL          1.010773\n",
              "K_SOIL          2.375167\n",
              "TEMPERATURE     0.184933\n",
              "HUMIDITY       -1.091708\n",
              "ph              0.283929\n",
              "RAINFALL        0.965756\n",
              "CROP_PRICE     15.926745\n",
              "dtype: float64"
            ]
          },
          "metadata": {},
          "execution_count": 12
        }
      ],
      "source": [
        "df.skew()"
      ]
    },
    {
      "cell_type": "code",
      "execution_count": null,
      "id": "c33824da",
      "metadata": {
        "execution": {
          "iopub.execute_input": "2023-02-12T12:02:37.579236Z",
          "iopub.status.busy": "2023-02-12T12:02:37.578459Z",
          "iopub.status.idle": "2023-02-12T12:02:37.584686Z",
          "shell.execute_reply": "2023-02-12T12:02:37.583665Z"
        },
        "id": "c33824da",
        "papermill": {
          "duration": 0.030518,
          "end_time": "2023-02-12T12:02:37.586940",
          "exception": false,
          "start_time": "2023-02-12T12:02:37.556422",
          "status": "completed"
        },
        "tags": []
      },
      "outputs": [],
      "source": [
        "df.P_SOIL=np.log(df['P_SOIL'])"
      ]
    },
    {
      "cell_type": "code",
      "execution_count": null,
      "id": "54b12c69",
      "metadata": {
        "execution": {
          "iopub.execute_input": "2023-02-12T12:02:37.630250Z",
          "iopub.status.busy": "2023-02-12T12:02:37.629602Z",
          "iopub.status.idle": "2023-02-12T12:02:37.635395Z",
          "shell.execute_reply": "2023-02-12T12:02:37.634433Z"
        },
        "id": "54b12c69",
        "papermill": {
          "duration": 0.029925,
          "end_time": "2023-02-12T12:02:37.637613",
          "exception": false,
          "start_time": "2023-02-12T12:02:37.607688",
          "status": "completed"
        },
        "tags": []
      },
      "outputs": [],
      "source": [
        "df.K_SOIL=np.log(df['K_SOIL'])"
      ]
    },
    {
      "cell_type": "code",
      "execution_count": null,
      "id": "9422ecfe",
      "metadata": {
        "execution": {
          "iopub.execute_input": "2023-02-12T12:02:37.682460Z",
          "iopub.status.busy": "2023-02-12T12:02:37.681834Z",
          "iopub.status.idle": "2023-02-12T12:02:37.688079Z",
          "shell.execute_reply": "2023-02-12T12:02:37.686929Z"
        },
        "id": "9422ecfe",
        "papermill": {
          "duration": 0.032063,
          "end_time": "2023-02-12T12:02:37.690468",
          "exception": false,
          "start_time": "2023-02-12T12:02:37.658405",
          "status": "completed"
        },
        "tags": []
      },
      "outputs": [],
      "source": [
        "df['HUMIDITY']=np.log(df['HUMIDITY'])"
      ]
    },
    {
      "cell_type": "code",
      "execution_count": null,
      "id": "c49ba9e4",
      "metadata": {
        "execution": {
          "iopub.execute_input": "2023-02-12T12:02:37.734760Z",
          "iopub.status.busy": "2023-02-12T12:02:37.734344Z",
          "iopub.status.idle": "2023-02-12T12:02:37.744920Z",
          "shell.execute_reply": "2023-02-12T12:02:37.743739Z"
        },
        "id": "c49ba9e4",
        "outputId": "68b4de64-b9da-45ae-acb9-1d77d28fdaa0",
        "papermill": {
          "duration": 0.035616,
          "end_time": "2023-02-12T12:02:37.747331",
          "exception": false,
          "start_time": "2023-02-12T12:02:37.711715",
          "status": "completed"
        },
        "tags": [],
        "colab": {
          "base_uri": "https://localhost:8080/"
        }
      },
      "outputs": [
        {
          "output_type": "execute_result",
          "data": {
            "text/plain": [
              "950.0"
            ]
          },
          "metadata": {},
          "execution_count": 16
        }
      ],
      "source": [
        "iq1=df['CROP_PRICE'].quantile(0.25)\n",
        "iq2=df['CROP_PRICE'].quantile(0.75)\n",
        "iq1"
      ]
    },
    {
      "cell_type": "code",
      "execution_count": null,
      "id": "51368273",
      "metadata": {
        "execution": {
          "iopub.execute_input": "2023-02-12T12:02:37.791675Z",
          "iopub.status.busy": "2023-02-12T12:02:37.791209Z",
          "iopub.status.idle": "2023-02-12T12:02:37.797428Z",
          "shell.execute_reply": "2023-02-12T12:02:37.796497Z"
        },
        "id": "51368273",
        "outputId": "45321e21-cd58-4a73-8c31-c8068536eaa8",
        "papermill": {
          "duration": 0.031201,
          "end_time": "2023-02-12T12:02:37.799566",
          "exception": false,
          "start_time": "2023-02-12T12:02:37.768365",
          "status": "completed"
        },
        "tags": [],
        "colab": {
          "base_uri": "https://localhost:8080/"
        }
      },
      "outputs": [
        {
          "output_type": "execute_result",
          "data": {
            "text/plain": [
              "3500.0"
            ]
          },
          "metadata": {},
          "execution_count": 17
        }
      ],
      "source": [
        "iq2"
      ]
    },
    {
      "cell_type": "code",
      "execution_count": null,
      "id": "987dc375",
      "metadata": {
        "execution": {
          "iopub.execute_input": "2023-02-12T12:02:37.844782Z",
          "iopub.status.busy": "2023-02-12T12:02:37.843948Z",
          "iopub.status.idle": "2023-02-12T12:02:37.851952Z",
          "shell.execute_reply": "2023-02-12T12:02:37.850811Z"
        },
        "id": "987dc375",
        "papermill": {
          "duration": 0.033787,
          "end_time": "2023-02-12T12:02:37.854449",
          "exception": false,
          "start_time": "2023-02-12T12:02:37.820662",
          "status": "completed"
        },
        "tags": []
      },
      "outputs": [],
      "source": [
        "df['CROP_PRICE']=np.where(df['CROP_PRICE']<iq1,iq1,df['CROP_PRICE'])\n",
        "df['CROP_PRICE']=np.where(df['CROP_PRICE']>iq2,iq2,df['CROP_PRICE'])"
      ]
    },
    {
      "cell_type": "code",
      "execution_count": null,
      "id": "b523e073",
      "metadata": {
        "execution": {
          "iopub.execute_input": "2023-02-12T12:02:37.898632Z",
          "iopub.status.busy": "2023-02-12T12:02:37.898205Z",
          "iopub.status.idle": "2023-02-12T12:02:37.909517Z",
          "shell.execute_reply": "2023-02-12T12:02:37.908423Z"
        },
        "id": "b523e073",
        "outputId": "b9fecb02-a3f1-46aa-d113-85141d8be0fe",
        "papermill": {
          "duration": 0.03621,
          "end_time": "2023-02-12T12:02:37.911753",
          "exception": false,
          "start_time": "2023-02-12T12:02:37.875543",
          "status": "completed"
        },
        "tags": [],
        "colab": {
          "base_uri": "https://localhost:8080/"
        }
      },
      "outputs": [
        {
          "output_type": "stream",
          "name": "stderr",
          "text": [
            "<ipython-input-19-9e0b1e29546f>:1: FutureWarning: The default value of numeric_only in DataFrame.skew is deprecated. In a future version, it will default to False. In addition, specifying 'numeric_only=None' is deprecated. Select only valid columns or specify the value of numeric_only to silence this warning.\n",
            "  df.skew()\n"
          ]
        },
        {
          "output_type": "execute_result",
          "data": {
            "text/plain": [
              "N_SOIL         0.509721\n",
              "P_SOIL        -0.782108\n",
              "K_SOIL         0.804010\n",
              "TEMPERATURE    0.184933\n",
              "HUMIDITY      -1.900877\n",
              "ph             0.283929\n",
              "RAINFALL       0.965756\n",
              "CROP_PRICE     0.283069\n",
              "dtype: float64"
            ]
          },
          "metadata": {},
          "execution_count": 19
        }
      ],
      "source": [
        "df.skew()"
      ]
    },
    {
      "cell_type": "markdown",
      "id": "b63d8542",
      "metadata": {
        "papermill": {
          "duration": 0.021503,
          "end_time": "2023-02-12T12:02:37.954808",
          "exception": false,
          "start_time": "2023-02-12T12:02:37.933305",
          "status": "completed"
        },
        "tags": [],
        "id": "b63d8542"
      },
      "source": [
        "# **DATA ENCODING**"
      ]
    },
    {
      "cell_type": "code",
      "execution_count": null,
      "id": "64ad842d",
      "metadata": {
        "execution": {
          "iopub.execute_input": "2023-02-12T12:02:38.000611Z",
          "iopub.status.busy": "2023-02-12T12:02:37.999795Z",
          "iopub.status.idle": "2023-02-12T12:02:38.127042Z",
          "shell.execute_reply": "2023-02-12T12:02:38.125826Z"
        },
        "id": "64ad842d",
        "papermill": {
          "duration": 0.153413,
          "end_time": "2023-02-12T12:02:38.129698",
          "exception": false,
          "start_time": "2023-02-12T12:02:37.976285",
          "status": "completed"
        },
        "tags": []
      },
      "outputs": [],
      "source": [
        "from sklearn.preprocessing import LabelEncoder\n",
        "le=LabelEncoder()\n",
        "df['CROP']=le.fit_transform(df['CROP'])\n"
      ]
    },
    {
      "cell_type": "markdown",
      "id": "59b20dc9",
      "metadata": {
        "papermill": {
          "duration": 0.021787,
          "end_time": "2023-02-12T12:02:38.173823",
          "exception": false,
          "start_time": "2023-02-12T12:02:38.152036",
          "status": "completed"
        },
        "tags": [],
        "id": "59b20dc9"
      },
      "source": [
        "# **DATA SPLITING**"
      ]
    },
    {
      "cell_type": "code",
      "execution_count": null,
      "id": "bfb39cd5",
      "metadata": {
        "execution": {
          "iopub.execute_input": "2023-02-12T12:02:38.218714Z",
          "iopub.status.busy": "2023-02-12T12:02:38.218302Z",
          "iopub.status.idle": "2023-02-12T12:02:38.237030Z",
          "shell.execute_reply": "2023-02-12T12:02:38.235983Z"
        },
        "id": "bfb39cd5",
        "outputId": "0d037086-8e0b-4e4b-9ded-f5fdb9b3f23a",
        "papermill": {
          "duration": 0.04394,
          "end_time": "2023-02-12T12:02:38.239395",
          "exception": false,
          "start_time": "2023-02-12T12:02:38.195455",
          "status": "completed"
        },
        "tags": [],
        "colab": {
          "base_uri": "https://localhost:8080/",
          "height": 206
        }
      },
      "outputs": [
        {
          "output_type": "execute_result",
          "data": {
            "text/plain": [
              "   N_SOIL    P_SOIL    K_SOIL  TEMPERATURE  HUMIDITY        ph    RAINFALL  \\\n",
              "0      90  3.737670  3.761200    20.879744  4.406753  6.502985  202.935536   \n",
              "1      85  4.060443  3.713572    21.770462  4.386014  7.038096  226.655537   \n",
              "2      60  4.007333  3.784190    23.004459  4.410623  7.840207  263.964248   \n",
              "3      74  3.555348  3.688879    26.491096  4.384004  6.980401  242.864034   \n",
              "4      78  3.737670  3.737670    20.130175  4.401889  7.628473  262.717340   \n",
              "\n",
              "   CROP_PRICE  \n",
              "0      3500.0  \n",
              "1      3500.0  \n",
              "2      3500.0  \n",
              "3      3500.0  \n",
              "4      3500.0  "
            ],
            "text/html": [
              "\n",
              "  <div id=\"df-73e9267b-55ea-4c2e-9719-5934b65254e4\" class=\"colab-df-container\">\n",
              "    <div>\n",
              "<style scoped>\n",
              "    .dataframe tbody tr th:only-of-type {\n",
              "        vertical-align: middle;\n",
              "    }\n",
              "\n",
              "    .dataframe tbody tr th {\n",
              "        vertical-align: top;\n",
              "    }\n",
              "\n",
              "    .dataframe thead th {\n",
              "        text-align: right;\n",
              "    }\n",
              "</style>\n",
              "<table border=\"1\" class=\"dataframe\">\n",
              "  <thead>\n",
              "    <tr style=\"text-align: right;\">\n",
              "      <th></th>\n",
              "      <th>N_SOIL</th>\n",
              "      <th>P_SOIL</th>\n",
              "      <th>K_SOIL</th>\n",
              "      <th>TEMPERATURE</th>\n",
              "      <th>HUMIDITY</th>\n",
              "      <th>ph</th>\n",
              "      <th>RAINFALL</th>\n",
              "      <th>CROP_PRICE</th>\n",
              "    </tr>\n",
              "  </thead>\n",
              "  <tbody>\n",
              "    <tr>\n",
              "      <th>0</th>\n",
              "      <td>90</td>\n",
              "      <td>3.737670</td>\n",
              "      <td>3.761200</td>\n",
              "      <td>20.879744</td>\n",
              "      <td>4.406753</td>\n",
              "      <td>6.502985</td>\n",
              "      <td>202.935536</td>\n",
              "      <td>3500.0</td>\n",
              "    </tr>\n",
              "    <tr>\n",
              "      <th>1</th>\n",
              "      <td>85</td>\n",
              "      <td>4.060443</td>\n",
              "      <td>3.713572</td>\n",
              "      <td>21.770462</td>\n",
              "      <td>4.386014</td>\n",
              "      <td>7.038096</td>\n",
              "      <td>226.655537</td>\n",
              "      <td>3500.0</td>\n",
              "    </tr>\n",
              "    <tr>\n",
              "      <th>2</th>\n",
              "      <td>60</td>\n",
              "      <td>4.007333</td>\n",
              "      <td>3.784190</td>\n",
              "      <td>23.004459</td>\n",
              "      <td>4.410623</td>\n",
              "      <td>7.840207</td>\n",
              "      <td>263.964248</td>\n",
              "      <td>3500.0</td>\n",
              "    </tr>\n",
              "    <tr>\n",
              "      <th>3</th>\n",
              "      <td>74</td>\n",
              "      <td>3.555348</td>\n",
              "      <td>3.688879</td>\n",
              "      <td>26.491096</td>\n",
              "      <td>4.384004</td>\n",
              "      <td>6.980401</td>\n",
              "      <td>242.864034</td>\n",
              "      <td>3500.0</td>\n",
              "    </tr>\n",
              "    <tr>\n",
              "      <th>4</th>\n",
              "      <td>78</td>\n",
              "      <td>3.737670</td>\n",
              "      <td>3.737670</td>\n",
              "      <td>20.130175</td>\n",
              "      <td>4.401889</td>\n",
              "      <td>7.628473</td>\n",
              "      <td>262.717340</td>\n",
              "      <td>3500.0</td>\n",
              "    </tr>\n",
              "  </tbody>\n",
              "</table>\n",
              "</div>\n",
              "    <div class=\"colab-df-buttons\">\n",
              "\n",
              "  <div class=\"colab-df-container\">\n",
              "    <button class=\"colab-df-convert\" onclick=\"convertToInteractive('df-73e9267b-55ea-4c2e-9719-5934b65254e4')\"\n",
              "            title=\"Convert this dataframe to an interactive table.\"\n",
              "            style=\"display:none;\">\n",
              "\n",
              "  <svg xmlns=\"http://www.w3.org/2000/svg\" height=\"24px\" viewBox=\"0 -960 960 960\">\n",
              "    <path d=\"M120-120v-720h720v720H120Zm60-500h600v-160H180v160Zm220 220h160v-160H400v160Zm0 220h160v-160H400v160ZM180-400h160v-160H180v160Zm440 0h160v-160H620v160ZM180-180h160v-160H180v160Zm440 0h160v-160H620v160Z\"/>\n",
              "  </svg>\n",
              "    </button>\n",
              "\n",
              "  <style>\n",
              "    .colab-df-container {\n",
              "      display:flex;\n",
              "      gap: 12px;\n",
              "    }\n",
              "\n",
              "    .colab-df-convert {\n",
              "      background-color: #E8F0FE;\n",
              "      border: none;\n",
              "      border-radius: 50%;\n",
              "      cursor: pointer;\n",
              "      display: none;\n",
              "      fill: #1967D2;\n",
              "      height: 32px;\n",
              "      padding: 0 0 0 0;\n",
              "      width: 32px;\n",
              "    }\n",
              "\n",
              "    .colab-df-convert:hover {\n",
              "      background-color: #E2EBFA;\n",
              "      box-shadow: 0px 1px 2px rgba(60, 64, 67, 0.3), 0px 1px 3px 1px rgba(60, 64, 67, 0.15);\n",
              "      fill: #174EA6;\n",
              "    }\n",
              "\n",
              "    .colab-df-buttons div {\n",
              "      margin-bottom: 4px;\n",
              "    }\n",
              "\n",
              "    [theme=dark] .colab-df-convert {\n",
              "      background-color: #3B4455;\n",
              "      fill: #D2E3FC;\n",
              "    }\n",
              "\n",
              "    [theme=dark] .colab-df-convert:hover {\n",
              "      background-color: #434B5C;\n",
              "      box-shadow: 0px 1px 3px 1px rgba(0, 0, 0, 0.15);\n",
              "      filter: drop-shadow(0px 1px 2px rgba(0, 0, 0, 0.3));\n",
              "      fill: #FFFFFF;\n",
              "    }\n",
              "  </style>\n",
              "\n",
              "    <script>\n",
              "      const buttonEl =\n",
              "        document.querySelector('#df-73e9267b-55ea-4c2e-9719-5934b65254e4 button.colab-df-convert');\n",
              "      buttonEl.style.display =\n",
              "        google.colab.kernel.accessAllowed ? 'block' : 'none';\n",
              "\n",
              "      async function convertToInteractive(key) {\n",
              "        const element = document.querySelector('#df-73e9267b-55ea-4c2e-9719-5934b65254e4');\n",
              "        const dataTable =\n",
              "          await google.colab.kernel.invokeFunction('convertToInteractive',\n",
              "                                                    [key], {});\n",
              "        if (!dataTable) return;\n",
              "\n",
              "        const docLinkHtml = 'Like what you see? Visit the ' +\n",
              "          '<a target=\"_blank\" href=https://colab.research.google.com/notebooks/data_table.ipynb>data table notebook</a>'\n",
              "          + ' to learn more about interactive tables.';\n",
              "        element.innerHTML = '';\n",
              "        dataTable['output_type'] = 'display_data';\n",
              "        await google.colab.output.renderOutput(dataTable, element);\n",
              "        const docLink = document.createElement('div');\n",
              "        docLink.innerHTML = docLinkHtml;\n",
              "        element.appendChild(docLink);\n",
              "      }\n",
              "    </script>\n",
              "  </div>\n",
              "\n",
              "\n",
              "<div id=\"df-98b862b7-2751-4979-a3aa-8c77853dbcb0\">\n",
              "  <button class=\"colab-df-quickchart\" onclick=\"quickchart('df-98b862b7-2751-4979-a3aa-8c77853dbcb0')\"\n",
              "            title=\"Suggest charts\"\n",
              "            style=\"display:none;\">\n",
              "\n",
              "<svg xmlns=\"http://www.w3.org/2000/svg\" height=\"24px\"viewBox=\"0 0 24 24\"\n",
              "     width=\"24px\">\n",
              "    <g>\n",
              "        <path d=\"M19 3H5c-1.1 0-2 .9-2 2v14c0 1.1.9 2 2 2h14c1.1 0 2-.9 2-2V5c0-1.1-.9-2-2-2zM9 17H7v-7h2v7zm4 0h-2V7h2v10zm4 0h-2v-4h2v4z\"/>\n",
              "    </g>\n",
              "</svg>\n",
              "  </button>\n",
              "\n",
              "<style>\n",
              "  .colab-df-quickchart {\n",
              "      --bg-color: #E8F0FE;\n",
              "      --fill-color: #1967D2;\n",
              "      --hover-bg-color: #E2EBFA;\n",
              "      --hover-fill-color: #174EA6;\n",
              "      --disabled-fill-color: #AAA;\n",
              "      --disabled-bg-color: #DDD;\n",
              "  }\n",
              "\n",
              "  [theme=dark] .colab-df-quickchart {\n",
              "      --bg-color: #3B4455;\n",
              "      --fill-color: #D2E3FC;\n",
              "      --hover-bg-color: #434B5C;\n",
              "      --hover-fill-color: #FFFFFF;\n",
              "      --disabled-bg-color: #3B4455;\n",
              "      --disabled-fill-color: #666;\n",
              "  }\n",
              "\n",
              "  .colab-df-quickchart {\n",
              "    background-color: var(--bg-color);\n",
              "    border: none;\n",
              "    border-radius: 50%;\n",
              "    cursor: pointer;\n",
              "    display: none;\n",
              "    fill: var(--fill-color);\n",
              "    height: 32px;\n",
              "    padding: 0;\n",
              "    width: 32px;\n",
              "  }\n",
              "\n",
              "  .colab-df-quickchart:hover {\n",
              "    background-color: var(--hover-bg-color);\n",
              "    box-shadow: 0 1px 2px rgba(60, 64, 67, 0.3), 0 1px 3px 1px rgba(60, 64, 67, 0.15);\n",
              "    fill: var(--button-hover-fill-color);\n",
              "  }\n",
              "\n",
              "  .colab-df-quickchart-complete:disabled,\n",
              "  .colab-df-quickchart-complete:disabled:hover {\n",
              "    background-color: var(--disabled-bg-color);\n",
              "    fill: var(--disabled-fill-color);\n",
              "    box-shadow: none;\n",
              "  }\n",
              "\n",
              "  .colab-df-spinner {\n",
              "    border: 2px solid var(--fill-color);\n",
              "    border-color: transparent;\n",
              "    border-bottom-color: var(--fill-color);\n",
              "    animation:\n",
              "      spin 1s steps(1) infinite;\n",
              "  }\n",
              "\n",
              "  @keyframes spin {\n",
              "    0% {\n",
              "      border-color: transparent;\n",
              "      border-bottom-color: var(--fill-color);\n",
              "      border-left-color: var(--fill-color);\n",
              "    }\n",
              "    20% {\n",
              "      border-color: transparent;\n",
              "      border-left-color: var(--fill-color);\n",
              "      border-top-color: var(--fill-color);\n",
              "    }\n",
              "    30% {\n",
              "      border-color: transparent;\n",
              "      border-left-color: var(--fill-color);\n",
              "      border-top-color: var(--fill-color);\n",
              "      border-right-color: var(--fill-color);\n",
              "    }\n",
              "    40% {\n",
              "      border-color: transparent;\n",
              "      border-right-color: var(--fill-color);\n",
              "      border-top-color: var(--fill-color);\n",
              "    }\n",
              "    60% {\n",
              "      border-color: transparent;\n",
              "      border-right-color: var(--fill-color);\n",
              "    }\n",
              "    80% {\n",
              "      border-color: transparent;\n",
              "      border-right-color: var(--fill-color);\n",
              "      border-bottom-color: var(--fill-color);\n",
              "    }\n",
              "    90% {\n",
              "      border-color: transparent;\n",
              "      border-bottom-color: var(--fill-color);\n",
              "    }\n",
              "  }\n",
              "</style>\n",
              "\n",
              "  <script>\n",
              "    async function quickchart(key) {\n",
              "      const quickchartButtonEl =\n",
              "        document.querySelector('#' + key + ' button');\n",
              "      quickchartButtonEl.disabled = true;  // To prevent multiple clicks.\n",
              "      quickchartButtonEl.classList.add('colab-df-spinner');\n",
              "      try {\n",
              "        const charts = await google.colab.kernel.invokeFunction(\n",
              "            'suggestCharts', [key], {});\n",
              "      } catch (error) {\n",
              "        console.error('Error during call to suggestCharts:', error);\n",
              "      }\n",
              "      quickchartButtonEl.classList.remove('colab-df-spinner');\n",
              "      quickchartButtonEl.classList.add('colab-df-quickchart-complete');\n",
              "    }\n",
              "    (() => {\n",
              "      let quickchartButtonEl =\n",
              "        document.querySelector('#df-98b862b7-2751-4979-a3aa-8c77853dbcb0 button');\n",
              "      quickchartButtonEl.style.display =\n",
              "        google.colab.kernel.accessAllowed ? 'block' : 'none';\n",
              "    })();\n",
              "  </script>\n",
              "</div>\n",
              "    </div>\n",
              "  </div>\n"
            ]
          },
          "metadata": {},
          "execution_count": 21
        }
      ],
      "source": [
        "x=df.iloc[:,0:8]\n",
        "y=df.iloc[:,8]\n",
        "x.head()"
      ]
    },
    {
      "cell_type": "code",
      "execution_count": null,
      "id": "b422fe92",
      "metadata": {
        "execution": {
          "iopub.execute_input": "2023-02-12T12:02:38.284113Z",
          "iopub.status.busy": "2023-02-12T12:02:38.283697Z",
          "iopub.status.idle": "2023-02-12T12:02:38.291190Z",
          "shell.execute_reply": "2023-02-12T12:02:38.290105Z"
        },
        "id": "b422fe92",
        "outputId": "5259214e-60a6-4300-e557-1a7287404942",
        "papermill": {
          "duration": 0.032499,
          "end_time": "2023-02-12T12:02:38.293465",
          "exception": false,
          "start_time": "2023-02-12T12:02:38.260966",
          "status": "completed"
        },
        "tags": [],
        "colab": {
          "base_uri": "https://localhost:8080/"
        }
      },
      "outputs": [
        {
          "output_type": "execute_result",
          "data": {
            "text/plain": [
              "array([20, 11,  3,  9, 18, 13, 14,  2, 10, 19,  1, 12,  7, 21, 15,  0, 16,\n",
              "       17,  4,  6,  8,  5])"
            ]
          },
          "metadata": {},
          "execution_count": 22
        }
      ],
      "source": [
        "y.unique()"
      ]
    },
    {
      "cell_type": "markdown",
      "id": "c2334d90",
      "metadata": {
        "id": "c2334d90",
        "papermill": {
          "duration": 0.021248,
          "end_time": "2023-02-12T12:02:38.336649",
          "exception": false,
          "start_time": "2023-02-12T12:02:38.315401",
          "status": "completed"
        },
        "tags": []
      },
      "source": [
        "### Training a model"
      ]
    },
    {
      "cell_type": "markdown",
      "id": "02f756d5",
      "metadata": {
        "papermill": {
          "duration": 0.021455,
          "end_time": "2023-02-12T12:02:38.380101",
          "exception": false,
          "start_time": "2023-02-12T12:02:38.358646",
          "status": "completed"
        },
        "tags": [],
        "id": "02f756d5"
      },
      "source": [
        "**TRAIN-TEST-SPLIT**"
      ]
    },
    {
      "cell_type": "code",
      "execution_count": null,
      "id": "ec41765d",
      "metadata": {
        "execution": {
          "iopub.execute_input": "2023-02-12T12:02:38.425103Z",
          "iopub.status.busy": "2023-02-12T12:02:38.424395Z",
          "iopub.status.idle": "2023-02-12T12:02:38.479728Z",
          "shell.execute_reply": "2023-02-12T12:02:38.478572Z"
        },
        "id": "ec41765d",
        "papermill": {
          "duration": 0.081048,
          "end_time": "2023-02-12T12:02:38.482625",
          "exception": false,
          "start_time": "2023-02-12T12:02:38.401577",
          "status": "completed"
        },
        "tags": []
      },
      "outputs": [],
      "source": [
        "from sklearn.model_selection import train_test_split\n",
        "x_train,x_test,y_train,y_test=train_test_split(x,y,train_size=0.7,random_state=1)"
      ]
    },
    {
      "cell_type": "code",
      "execution_count": null,
      "id": "0fd2189b",
      "metadata": {
        "execution": {
          "iopub.execute_input": "2023-02-12T12:02:38.527688Z",
          "iopub.status.busy": "2023-02-12T12:02:38.527276Z",
          "iopub.status.idle": "2023-02-12T12:02:38.532415Z",
          "shell.execute_reply": "2023-02-12T12:02:38.531557Z"
        },
        "id": "0fd2189b",
        "outputId": "2d668f4c-0b2f-4b5f-8269-0a6147029b16",
        "papermill": {
          "duration": 0.030785,
          "end_time": "2023-02-12T12:02:38.535164",
          "exception": false,
          "start_time": "2023-02-12T12:02:38.504379",
          "status": "completed"
        },
        "tags": [],
        "colab": {
          "base_uri": "https://localhost:8080/"
        }
      },
      "outputs": [
        {
          "output_type": "stream",
          "name": "stdout",
          "text": [
            "Training data (1540, 8)\n"
          ]
        }
      ],
      "source": [
        "print(\"Training data\",x_train.shape)"
      ]
    },
    {
      "cell_type": "code",
      "execution_count": null,
      "id": "369ad229",
      "metadata": {
        "execution": {
          "iopub.execute_input": "2023-02-12T12:02:38.580605Z",
          "iopub.status.busy": "2023-02-12T12:02:38.580219Z",
          "iopub.status.idle": "2023-02-12T12:02:38.585852Z",
          "shell.execute_reply": "2023-02-12T12:02:38.584761Z"
        },
        "id": "369ad229",
        "outputId": "6e2c1156-cbb3-458a-a58e-4832ad8252a5",
        "papermill": {
          "duration": 0.031428,
          "end_time": "2023-02-12T12:02:38.588436",
          "exception": false,
          "start_time": "2023-02-12T12:02:38.557008",
          "status": "completed"
        },
        "tags": [],
        "colab": {
          "base_uri": "https://localhost:8080/"
        }
      },
      "outputs": [
        {
          "output_type": "stream",
          "name": "stdout",
          "text": [
            "Training data (660, 8)\n"
          ]
        }
      ],
      "source": [
        "print(\"Training data\",x_test.shape)"
      ]
    },
    {
      "cell_type": "markdown",
      "id": "43cb43fa",
      "metadata": {
        "papermill": {
          "duration": 0.022349,
          "end_time": "2023-02-12T12:02:38.632324",
          "exception": false,
          "start_time": "2023-02-12T12:02:38.609975",
          "status": "completed"
        },
        "tags": [],
        "id": "43cb43fa"
      },
      "source": [
        "# **IMPORTING ALGORITHM**\n"
      ]
    },
    {
      "cell_type": "markdown",
      "id": "52099dfa",
      "metadata": {
        "papermill": {
          "duration": 0.02177,
          "end_time": "2023-02-12T12:02:38.796265",
          "exception": false,
          "start_time": "2023-02-12T12:02:38.774495",
          "status": "completed"
        },
        "tags": [],
        "id": "52099dfa"
      },
      "source": [
        "**PREDICTION OF CROP**"
      ]
    },
    {
      "cell_type": "code",
      "source": [
        "from sklearn.ensemble import GradientBoostingClassifier\n",
        "model= GradientBoostingClassifier()\n"
      ],
      "metadata": {
        "id": "Wp6h-IkJbYmp"
      },
      "id": "Wp6h-IkJbYmp",
      "execution_count": null,
      "outputs": []
    },
    {
      "cell_type": "code",
      "source": [
        "model.fit(x_train,y_train)"
      ],
      "metadata": {
        "colab": {
          "base_uri": "https://localhost:8080/",
          "height": 74
        },
        "id": "d_YMTe1Mbck5",
        "outputId": "0e6c6fa8-2229-492e-9fd7-1fe9fb23296c"
      },
      "id": "d_YMTe1Mbck5",
      "execution_count": null,
      "outputs": [
        {
          "output_type": "execute_result",
          "data": {
            "text/plain": [
              "GradientBoostingClassifier()"
            ],
            "text/html": [
              "<style>#sk-container-id-1 {color: black;background-color: white;}#sk-container-id-1 pre{padding: 0;}#sk-container-id-1 div.sk-toggleable {background-color: white;}#sk-container-id-1 label.sk-toggleable__label {cursor: pointer;display: block;width: 100%;margin-bottom: 0;padding: 0.3em;box-sizing: border-box;text-align: center;}#sk-container-id-1 label.sk-toggleable__label-arrow:before {content: \"▸\";float: left;margin-right: 0.25em;color: #696969;}#sk-container-id-1 label.sk-toggleable__label-arrow:hover:before {color: black;}#sk-container-id-1 div.sk-estimator:hover label.sk-toggleable__label-arrow:before {color: black;}#sk-container-id-1 div.sk-toggleable__content {max-height: 0;max-width: 0;overflow: hidden;text-align: left;background-color: #f0f8ff;}#sk-container-id-1 div.sk-toggleable__content pre {margin: 0.2em;color: black;border-radius: 0.25em;background-color: #f0f8ff;}#sk-container-id-1 input.sk-toggleable__control:checked~div.sk-toggleable__content {max-height: 200px;max-width: 100%;overflow: auto;}#sk-container-id-1 input.sk-toggleable__control:checked~label.sk-toggleable__label-arrow:before {content: \"▾\";}#sk-container-id-1 div.sk-estimator input.sk-toggleable__control:checked~label.sk-toggleable__label {background-color: #d4ebff;}#sk-container-id-1 div.sk-label input.sk-toggleable__control:checked~label.sk-toggleable__label {background-color: #d4ebff;}#sk-container-id-1 input.sk-hidden--visually {border: 0;clip: rect(1px 1px 1px 1px);clip: rect(1px, 1px, 1px, 1px);height: 1px;margin: -1px;overflow: hidden;padding: 0;position: absolute;width: 1px;}#sk-container-id-1 div.sk-estimator {font-family: monospace;background-color: #f0f8ff;border: 1px dotted black;border-radius: 0.25em;box-sizing: border-box;margin-bottom: 0.5em;}#sk-container-id-1 div.sk-estimator:hover {background-color: #d4ebff;}#sk-container-id-1 div.sk-parallel-item::after {content: \"\";width: 100%;border-bottom: 1px solid gray;flex-grow: 1;}#sk-container-id-1 div.sk-label:hover label.sk-toggleable__label {background-color: #d4ebff;}#sk-container-id-1 div.sk-serial::before {content: \"\";position: absolute;border-left: 1px solid gray;box-sizing: border-box;top: 0;bottom: 0;left: 50%;z-index: 0;}#sk-container-id-1 div.sk-serial {display: flex;flex-direction: column;align-items: center;background-color: white;padding-right: 0.2em;padding-left: 0.2em;position: relative;}#sk-container-id-1 div.sk-item {position: relative;z-index: 1;}#sk-container-id-1 div.sk-parallel {display: flex;align-items: stretch;justify-content: center;background-color: white;position: relative;}#sk-container-id-1 div.sk-item::before, #sk-container-id-1 div.sk-parallel-item::before {content: \"\";position: absolute;border-left: 1px solid gray;box-sizing: border-box;top: 0;bottom: 0;left: 50%;z-index: -1;}#sk-container-id-1 div.sk-parallel-item {display: flex;flex-direction: column;z-index: 1;position: relative;background-color: white;}#sk-container-id-1 div.sk-parallel-item:first-child::after {align-self: flex-end;width: 50%;}#sk-container-id-1 div.sk-parallel-item:last-child::after {align-self: flex-start;width: 50%;}#sk-container-id-1 div.sk-parallel-item:only-child::after {width: 0;}#sk-container-id-1 div.sk-dashed-wrapped {border: 1px dashed gray;margin: 0 0.4em 0.5em 0.4em;box-sizing: border-box;padding-bottom: 0.4em;background-color: white;}#sk-container-id-1 div.sk-label label {font-family: monospace;font-weight: bold;display: inline-block;line-height: 1.2em;}#sk-container-id-1 div.sk-label-container {text-align: center;}#sk-container-id-1 div.sk-container {/* jupyter's `normalize.less` sets `[hidden] { display: none; }` but bootstrap.min.css set `[hidden] { display: none !important; }` so we also need the `!important` here to be able to override the default hidden behavior on the sphinx rendered scikit-learn.org. See: https://github.com/scikit-learn/scikit-learn/issues/21755 */display: inline-block !important;position: relative;}#sk-container-id-1 div.sk-text-repr-fallback {display: none;}</style><div id=\"sk-container-id-1\" class=\"sk-top-container\"><div class=\"sk-text-repr-fallback\"><pre>GradientBoostingClassifier()</pre><b>In a Jupyter environment, please rerun this cell to show the HTML representation or trust the notebook. <br />On GitHub, the HTML representation is unable to render, please try loading this page with nbviewer.org.</b></div><div class=\"sk-container\" hidden><div class=\"sk-item\"><div class=\"sk-estimator sk-toggleable\"><input class=\"sk-toggleable__control sk-hidden--visually\" id=\"sk-estimator-id-1\" type=\"checkbox\" checked><label for=\"sk-estimator-id-1\" class=\"sk-toggleable__label sk-toggleable__label-arrow\">GradientBoostingClassifier</label><div class=\"sk-toggleable__content\"><pre>GradientBoostingClassifier()</pre></div></div></div></div></div>"
            ]
          },
          "metadata": {},
          "execution_count": 30
        }
      ]
    },
    {
      "cell_type": "code",
      "source": [
        "y_prediction=model.predict(x_test)"
      ],
      "metadata": {
        "id": "26D3qbaQbdoX"
      },
      "id": "26D3qbaQbdoX",
      "execution_count": null,
      "outputs": []
    },
    {
      "cell_type": "markdown",
      "source": [
        "# Alternate Method\n",
        "You can also you the random forest classifier but i have chosen Gradien Boost classifier as my primary method."
      ],
      "metadata": {
        "id": "Ev7P2IFOSC14"
      },
      "id": "Ev7P2IFOSC14"
    },
    {
      "cell_type": "code",
      "execution_count": null,
      "id": "cda0aec8",
      "metadata": {
        "execution": {
          "iopub.execute_input": "2023-02-12T12:02:38.679815Z",
          "iopub.status.busy": "2023-02-12T12:02:38.678627Z",
          "iopub.status.idle": "2023-02-12T12:02:38.686455Z",
          "shell.execute_reply": "2023-02-12T12:02:38.685529Z"
        },
        "id": "cda0aec8",
        "papermill": {
          "duration": 0.03445,
          "end_time": "2023-02-12T12:02:38.688962",
          "exception": false,
          "start_time": "2023-02-12T12:02:38.654512",
          "status": "completed"
        },
        "tags": []
      },
      "outputs": [],
      "source": [
        "#from sklearn.ensemble import RandomForestClassifier\n",
        "#model = RandomForestClassifier()"
      ]
    },
    {
      "cell_type": "code",
      "execution_count": null,
      "id": "2c6b9dd5",
      "metadata": {
        "execution": {
          "iopub.execute_input": "2023-02-12T12:02:38.734685Z",
          "iopub.status.busy": "2023-02-12T12:02:38.733980Z",
          "iopub.status.idle": "2023-02-12T12:02:38.749695Z",
          "shell.execute_reply": "2023-02-12T12:02:38.748527Z"
        },
        "id": "2c6b9dd5",
        "papermill": {
          "duration": 0.0414,
          "end_time": "2023-02-12T12:02:38.752059",
          "exception": false,
          "start_time": "2023-02-12T12:02:38.710659",
          "status": "completed"
        },
        "tags": []
      },
      "outputs": [],
      "source": [
        "#model.fit(x_train,y_train)"
      ]
    },
    {
      "cell_type": "code",
      "execution_count": null,
      "id": "08db98d0",
      "metadata": {
        "execution": {
          "iopub.execute_input": "2023-02-12T12:02:38.842369Z",
          "iopub.status.busy": "2023-02-12T12:02:38.841718Z",
          "iopub.status.idle": "2023-02-12T12:02:38.849726Z",
          "shell.execute_reply": "2023-02-12T12:02:38.848491Z"
        },
        "id": "08db98d0",
        "papermill": {
          "duration": 0.034393,
          "end_time": "2023-02-12T12:02:38.852568",
          "exception": false,
          "start_time": "2023-02-12T12:02:38.818175",
          "status": "completed"
        },
        "tags": []
      },
      "outputs": [],
      "source": [
        "#y_prediction=model.predict(x_test)"
      ]
    },
    {
      "cell_type": "markdown",
      "source": [
        "# **MODEL EVALUATION**"
      ],
      "metadata": {
        "id": "QADM9hf_kUvb"
      },
      "id": "QADM9hf_kUvb"
    },
    {
      "cell_type": "code",
      "source": [
        "from sklearn.metrics import precision_score, recall_score, f1_score"
      ],
      "metadata": {
        "id": "Jt99oJoRA7jI"
      },
      "id": "Jt99oJoRA7jI",
      "execution_count": null,
      "outputs": []
    },
    {
      "cell_type": "code",
      "source": [
        "# Precision\n",
        "precision = precision_score(y_test, y_prediction, average='weighted')\n",
        "print(\"Precision Score:\", precision)"
      ],
      "metadata": {
        "colab": {
          "base_uri": "https://localhost:8080/"
        },
        "id": "s6FzJ8urBOwO",
        "outputId": "50652951-37a7-4828-85c8-5e847d1af86d"
      },
      "id": "s6FzJ8urBOwO",
      "execution_count": null,
      "outputs": [
        {
          "output_type": "stream",
          "name": "stdout",
          "text": [
            "Precision Score: 0.9956773618538324\n"
          ]
        }
      ]
    },
    {
      "cell_type": "code",
      "source": [
        "# Recall\n",
        "recall = recall_score(y_test, y_prediction, average='weighted')\n",
        "print(\"Recall Score:\", recall)"
      ],
      "metadata": {
        "colab": {
          "base_uri": "https://localhost:8080/"
        },
        "id": "hf1Yt4ZQBScz",
        "outputId": "a675ac2f-d384-46c1-bb85-d991154245ad"
      },
      "id": "hf1Yt4ZQBScz",
      "execution_count": null,
      "outputs": [
        {
          "output_type": "stream",
          "name": "stdout",
          "text": [
            "Recall Score: 0.9954545454545455\n"
          ]
        }
      ]
    },
    {
      "cell_type": "code",
      "source": [
        "# F1 Score\n",
        "f1 = f1_score(y_test, y_prediction, average='weighted')\n",
        "print(\"F1 Score:\", f1)"
      ],
      "metadata": {
        "colab": {
          "base_uri": "https://localhost:8080/"
        },
        "id": "mQ7y5J9TBVpn",
        "outputId": "405be625-6236-4a95-b771-57cf52347bb6"
      },
      "id": "mQ7y5J9TBVpn",
      "execution_count": null,
      "outputs": [
        {
          "output_type": "stream",
          "name": "stdout",
          "text": [
            "F1 Score: 0.9954348608198675\n"
          ]
        }
      ]
    },
    {
      "cell_type": "markdown",
      "id": "ef0fb372",
      "metadata": {
        "papermill": {
          "duration": 0.024837,
          "end_time": "2023-02-12T12:02:38.902752",
          "exception": false,
          "start_time": "2023-02-12T12:02:38.877915",
          "status": "completed"
        },
        "tags": [],
        "id": "ef0fb372"
      },
      "source": [
        "# **MODEL METRICS**"
      ]
    },
    {
      "cell_type": "code",
      "execution_count": null,
      "id": "1d066786",
      "metadata": {
        "execution": {
          "iopub.execute_input": "2023-02-12T12:02:38.953144Z",
          "iopub.status.busy": "2023-02-12T12:02:38.952685Z",
          "iopub.status.idle": "2023-02-12T12:02:38.960666Z",
          "shell.execute_reply": "2023-02-12T12:02:38.959792Z"
        },
        "id": "1d066786",
        "outputId": "c123ee2a-f305-4593-882f-b9ed8d18457a",
        "papermill": {
          "duration": 0.034782,
          "end_time": "2023-02-12T12:02:38.962852",
          "exception": false,
          "start_time": "2023-02-12T12:02:38.928070",
          "status": "completed"
        },
        "tags": [],
        "colab": {
          "base_uri": "https://localhost:8080/"
        }
      },
      "outputs": [
        {
          "output_type": "execute_result",
          "data": {
            "text/plain": [
              "0.9954545454545455"
            ]
          },
          "metadata": {},
          "execution_count": 33
        }
      ],
      "source": [
        "from sklearn.metrics import accuracy_score\n",
        "accuracy_score(y_test,y_prediction)"
      ]
    },
    {
      "cell_type": "markdown",
      "id": "5b7028b3",
      "metadata": {
        "papermill": {
          "duration": 0.022567,
          "end_time": "2023-02-12T12:02:39.008463",
          "exception": false,
          "start_time": "2023-02-12T12:02:38.985896",
          "status": "completed"
        },
        "tags": [],
        "id": "5b7028b3"
      },
      "source": [
        "# **MODEL DEPLOYMENT**"
      ]
    },
    {
      "cell_type": "code",
      "execution_count": null,
      "id": "281b9ddd",
      "metadata": {
        "execution": {
          "iopub.execute_input": "2023-02-12T12:02:39.063589Z",
          "iopub.status.busy": "2023-02-12T12:02:39.063011Z",
          "iopub.status.idle": "2023-02-12T12:02:39.067799Z",
          "shell.execute_reply": "2023-02-12T12:02:39.066909Z"
        },
        "id": "281b9ddd",
        "papermill": {
          "duration": 0.037299,
          "end_time": "2023-02-12T12:02:39.071309",
          "exception": false,
          "start_time": "2023-02-12T12:02:39.034010",
          "status": "completed"
        },
        "tags": []
      },
      "outputs": [],
      "source": [
        "import pickle"
      ]
    },
    {
      "cell_type": "code",
      "execution_count": null,
      "id": "cc343ea1",
      "metadata": {
        "execution": {
          "iopub.execute_input": "2023-02-12T12:02:39.125964Z",
          "iopub.status.busy": "2023-02-12T12:02:39.125556Z",
          "iopub.status.idle": "2023-02-12T12:02:39.131232Z",
          "shell.execute_reply": "2023-02-12T12:02:39.130170Z"
        },
        "id": "cc343ea1",
        "papermill": {
          "duration": 0.033531,
          "end_time": "2023-02-12T12:02:39.133498",
          "exception": false,
          "start_time": "2023-02-12T12:02:39.099967",
          "status": "completed"
        },
        "tags": []
      },
      "outputs": [],
      "source": [
        "filename='trained_model.sav'\n",
        "pickle.dump(model,open(filename,'wb'))"
      ]
    },
    {
      "cell_type": "code",
      "execution_count": null,
      "id": "44121cd6",
      "metadata": {
        "execution": {
          "iopub.execute_input": "2023-02-12T12:02:39.179984Z",
          "iopub.status.busy": "2023-02-12T12:02:39.179575Z",
          "iopub.status.idle": "2023-02-12T12:02:39.185230Z",
          "shell.execute_reply": "2023-02-12T12:02:39.184088Z"
        },
        "id": "44121cd6",
        "papermill": {
          "duration": 0.031874,
          "end_time": "2023-02-12T12:02:39.187673",
          "exception": false,
          "start_time": "2023-02-12T12:02:39.155799",
          "status": "completed"
        },
        "tags": []
      },
      "outputs": [],
      "source": [
        "loaded_model=pickle.load(open('trained_model.sav','rb'))"
      ]
    },
    {
      "cell_type": "code",
      "execution_count": null,
      "id": "c45125bd",
      "metadata": {
        "execution": {
          "iopub.execute_input": "2023-02-12T12:02:39.234353Z",
          "iopub.status.busy": "2023-02-12T12:02:39.233252Z",
          "iopub.status.idle": "2023-02-12T12:02:39.244440Z",
          "shell.execute_reply": "2023-02-12T12:02:39.242913Z"
        },
        "id": "c45125bd",
        "outputId": "1daa7c00-9fd5-4e0e-b8f9-536a0a7fca96",
        "papermill": {
          "duration": 0.037557,
          "end_time": "2023-02-12T12:02:39.247346",
          "exception": false,
          "start_time": "2023-02-12T12:02:39.209789",
          "status": "completed"
        },
        "tags": [],
        "colab": {
          "base_uri": "https://localhost:8080/"
        }
      },
      "outputs": [
        {
          "output_type": "stream",
          "name": "stdout",
          "text": [
            "[3]\n"
          ]
        },
        {
          "output_type": "stream",
          "name": "stderr",
          "text": [
            "/usr/local/lib/python3.10/dist-packages/sklearn/base.py:439: UserWarning: X does not have valid feature names, but GradientBoostingClassifier was fitted with feature names\n",
            "  warnings.warn(\n"
          ]
        }
      ],
      "source": [
        "input_data=(49,4.234107,4.406719,18.315615,2.731860,7.263119,81.787105,3500.0)\n",
        "input_array=np.asarray(input_data)\n",
        "data_reshape=input_array.reshape(1,-1)\n",
        "prediction=model.predict(data_reshape)\n",
        "print(prediction)\n"
      ]
    }
  ],
  "metadata": {
    "kernelspec": {
      "display_name": "Python 3",
      "language": "python",
      "name": "python3"
    },
    "language_info": {
      "codemirror_mode": {
        "name": "ipython",
        "version": 3
      },
      "file_extension": ".py",
      "mimetype": "text/x-python",
      "name": "python",
      "nbconvert_exporter": "python",
      "pygments_lexer": "ipython3",
      "version": "3.7.12"
    },
    "papermill": {
      "default_parameters": {},
      "duration": 13.004849,
      "end_time": "2023-02-12T12:02:40.035618",
      "environment_variables": {},
      "exception": null,
      "input_path": "__notebook__.ipynb",
      "output_path": "__notebook__.ipynb",
      "parameters": {},
      "start_time": "2023-02-12T12:02:27.030769",
      "version": "2.3.4"
    },
    "colab": {
      "provenance": []
    }
  },
  "nbformat": 4,
  "nbformat_minor": 5
}